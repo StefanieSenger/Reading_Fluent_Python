{
 "cells": [
  {
   "cell_type": "markdown",
   "metadata": {},
   "source": [
    "# 10 Design Patterns with First Class Functions\n",
    "Some notes, observations and questions along chapter 10.\n",
    "\n",
    "- design patterns are language specific and many of the well known (23) design patterns first described by the Gang of Four, simplify or vanish in Python\n",
    "\n",
    "### Case Study: Refactoring Strategy\n",
    "- Strategy Pattern is defined as: \"Define a family of algorithms, encapsulate each one, and make them interchangeable.\"\n",
    "    - a behavioral software design pattern that enables selecting an algorithm at runtime\n",
    "\n",
    "#### Classic Strategy\n",
    "- this would be the class implementation of a Strategy pattern:\n",
    "\n",
    "![Wikipedia](https://upload.wikimedia.org/wikipedia/commons/4/45/W3sDesign_Strategy_Design_Pattern_UML.jpg)\n",
    "\n",
    "- the `Strategy` class holds a common interface for the `Context` class\n",
    "- the concrete strategies are subclassed to `Strategy` (which can be implemented as an abstract base class)\n",
    "- which concrete strategy is chosen is determined at runtime (selection is outside this pattern) and passed to the Context constructor\n",
    "\n",
    "- in the example of the book:\n",
    "    - the choice of which strategy to use (`FidelityPromo`, `BulkItemPromo`, `LargeOrderPromo`) is not made inside the Order class; instead, the caller (the code using the `Order` class) decides which strategy to pass\n",
    "    - `Order` is a `NamedTuple` and this is why it doesn't have an `__init__` as a constructor, but is has parameters such as `promotion` in its class signature\n",
    "\n",
    "    - question: if the `Order` class is called by another program, then yes: the strategy is determined at runtime; but if our own project calls the `Order` class? If the user uses the Order class, then yes.\n",
    "\n",
    "#### Function-Oriented Strategy\n",
    "- but we could actually replace equally named methods with functions (if they don't need to hold any state)\n",
    "- this would require us to pass a \"callable\" to the constructor of the `Order` class (meaning: one attribute of the class is or can be a \"callable\")"
   ]
  },
  {
   "cell_type": "markdown",
   "metadata": {},
   "source": [
    "### Decorator-Enhanced Strategy Pattern\n",
    "- used to dynamically collect a certain subset of functions\n",
    "- we would define a decorator that adds each function to a list (register them) and then decorate all the functions that we care about with it\n",
    "- advantage: you don't need to use inspection (`globals()`)\n",
    "\n",
    "### The Command Pattern\n",
    "- as the Strategy Pattern, it can be used in an object oriented way and in a functional way\n",
    "\n",
    "- goal of Command is to decouple an object that invokes an operation from the object that implements it\n",
    "- this is done my putting a `Command` object between the two, which implements an interface with a single method (for instance `execute`)\n",
    "- ![Wikipedia](https://upload.wikimedia.org/wikipedia/commons/b/bf/Command_pattern.svg)"
   ]
  },
  {
   "cell_type": "markdown",
   "metadata": {},
   "source": [
    "- \"Quoting from Design Patterns, “Commands are an object-oriented replacement for callbacks.” \"\n",
    "    - callbacks is just another word for passing a function as an argument into another function or method to be called later\n",
    "    - question: what is the difference between passing a function as a first class object and a callback?\n",
    "\n",
    "- comment: the book is pretty superficial here: it doesn't provide code for the OOP implementation of the Command Pattern; also after reading the corresponding Wikipedia articles, I don't know what the \"client\" does or what \"MacroCommand\" class is supposed to do (or are these two the same?) ... (no time for further research now)"
   ]
  }
 ],
 "metadata": {
  "kernelspec": {
   "display_name": "fluent_python",
   "language": "python",
   "name": "python3"
  },
  "language_info": {
   "codemirror_mode": {
    "name": "ipython",
    "version": 3
   },
   "file_extension": ".py",
   "mimetype": "text/x-python",
   "name": "python",
   "nbconvert_exporter": "python",
   "pygments_lexer": "ipython3",
   "version": "3.12.2"
  }
 },
 "nbformat": 4,
 "nbformat_minor": 2
}
