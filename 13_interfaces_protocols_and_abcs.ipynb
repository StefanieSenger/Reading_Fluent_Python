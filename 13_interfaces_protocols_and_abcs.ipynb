{
 "cells": [
  {
   "cell_type": "markdown",
   "metadata": {},
   "source": [
    "# 13 Interfaces, Protocols, and ABCs\n",
    "Some notes, observations and questions along chapter 13.\n",
    "\n",
    "\"The best approach to understanding a type in Python is knowing the methods it provides—its interface [...]\"\n",
    "\n",
    "- Duck typing: Python’s default approach based on similar methods.\n",
    "- Goose typing: supported by \"abstract base classes\" (ABCs); relies on runtime `isinstance()` checks of objects\n",
    "- Static typing: traditional approach like in C and Java; enforced by external type checkers compliant Type Hints\n",
    "- Static duck typing: supported by subclasses of `typing.Protocol`\n",
    "\n",
    "<img src=\"images/typing_map.png\" alt=\"typing_map\" width=\"700\" height=\"500\">\n",
    "\n",
    "reference: Luciano Ramalho: Fluent Python. Clear, Concise, and Effective Programming, 2022, chapter 13.\n",
    "\n",
    "### Two Kinds of Protocols\n",
    "- a protocol is the methods an object implements in order to belong to a certain class\n",
    "- for instance, a Sequence object needs `__getitem__()` and `__len__()`\n",
    "- but it doesn't need to be a full sequence, depending on what is the purpose of a class and how it is used\n",
    "    - a protocol is like an \"informal interface\"\n",
    "\n",
    "##### the two kinds are:\n",
    "1. dynamic typing: duck typing Python always had, defined by convention with informal descriptions (in the Python docs) on what a type needs to implement\n",
    "2. static typing uses `typing.Protocol` to define one or more methods that a class must implement (or inherit) to satisfy a static type checker\n",
    "\n",
    "- static protocols are stricter and can be checked by type checkers, dynamic protocols cannot\n",
    "\n",
    "### Programming Ducks\n",
    "- the ABCs from `collections.abc` can be used to describe how types look like, but the important thing is is that duck typing works without inheritance\n",
    "    - also the built-in sequences like `list`, `str`, etc., do not rely on an ABC at all\n",
    "- an alternative definition of duck typing: \"ignoring an object’s actual type, focusing instead on ensuring that the object implements the method names, signatures, and semantics required for its intended use\"\n",
    "\n",
    "#### Sequence types\n",
    "- if we would inherit from `collections.abc.Sequence`, we would only need to implement `__len__()` and `__getitem__()` which are abstract classes, and get the other methods (`__iter__()`, `__contains__()`, `__reversed__()`, `index()`, `count()`) by inheritance\n",
    "- `index()`, `count()` are public methods that are supposed to be used by developers\n",
    "- also, the Python interpreter finds ways to iterate over objects that don't implement `__iter__()` and use the **in** operator on objects without `__contains__()` (in case the class was build without inheriting from `collections.abc.Sequence`)\n",
    "    - this is the interpreters own implementation in C\n",
    "    - tries different ways to iterate over anything that remotely resembles a sequence\n",
    "\n",
    "#### Monkey Patching: Implementing a Protocol at Runtime\n",
    "- Monkey patching is dynamically changing a module, class, or function at runtime, to add features or fix bugs\n",
    "- FrenchDeck doesn't support shuffling, because it doesn't have its own `shuffle()` method\n",
    "- BUT: it doesn't need it's own `shuffle()` method and the pythonic way would be to use `random.shuffle()` on it:"
   ]
  },
  {
   "cell_type": "code",
   "execution_count": 1,
   "metadata": {},
   "outputs": [
    {
     "ename": "TypeError",
     "evalue": "'FrenchDeck' object does not support item assignment",
     "output_type": "error",
     "traceback": [
      "\u001b[0;31m---------------------------------------------------------------------------\u001b[0m",
      "\u001b[0;31mTypeError\u001b[0m                                 Traceback (most recent call last)",
      "Cell \u001b[0;32mIn[1], line 22\u001b[0m\n\u001b[1;32m     19\u001b[0m \u001b[38;5;28;01mfrom\u001b[39;00m \u001b[38;5;21;01mrandom\u001b[39;00m \u001b[38;5;28;01mimport\u001b[39;00m shuffle\n\u001b[1;32m     21\u001b[0m deck \u001b[38;5;241m=\u001b[39m FrenchDeck()\n\u001b[0;32m---> 22\u001b[0m \u001b[43mshuffle\u001b[49m\u001b[43m(\u001b[49m\u001b[43mdeck\u001b[49m\u001b[43m)\u001b[49m\n",
      "File \u001b[0;32m~/.pyenv/versions/3.12.2/lib/python3.12/random.py:357\u001b[0m, in \u001b[0;36mRandom.shuffle\u001b[0;34m(self, x)\u001b[0m\n\u001b[1;32m    354\u001b[0m \u001b[38;5;28;01mfor\u001b[39;00m i \u001b[38;5;129;01min\u001b[39;00m \u001b[38;5;28mreversed\u001b[39m(\u001b[38;5;28mrange\u001b[39m(\u001b[38;5;241m1\u001b[39m, \u001b[38;5;28mlen\u001b[39m(x))):\n\u001b[1;32m    355\u001b[0m     \u001b[38;5;66;03m# pick an element in x[:i+1] with which to exchange x[i]\u001b[39;00m\n\u001b[1;32m    356\u001b[0m     j \u001b[38;5;241m=\u001b[39m randbelow(i \u001b[38;5;241m+\u001b[39m \u001b[38;5;241m1\u001b[39m)\n\u001b[0;32m--> 357\u001b[0m     \u001b[43mx\u001b[49m\u001b[43m[\u001b[49m\u001b[43mi\u001b[49m\u001b[43m]\u001b[49m, x[j] \u001b[38;5;241m=\u001b[39m x[j], x[i]\n",
      "\u001b[0;31mTypeError\u001b[0m: 'FrenchDeck' object does not support item assignment"
     ]
    }
   ],
   "source": [
    "import collections\n",
    "\n",
    "Card = collections.namedtuple('Card', ['rank', 'suit'])\n",
    "\n",
    "class FrenchDeck:\n",
    "    ranks = [str(n) for n in range(2, 11)] + list('JQKA')\n",
    "    suits = 'spades diamonds clubs hearts'.split()\n",
    "\n",
    "    def __init__(self):\n",
    "        self._cards = [Card(rank, suit) for suit in self.suits\n",
    "                                        for rank in self.ranks]\n",
    "\n",
    "    def __len__(self):\n",
    "        return len(self._cards)\n",
    "\n",
    "    def __getitem__(self, position):\n",
    "        return self._cards[position]\n",
    "\n",
    "from random import shuffle\n",
    "\n",
    "deck = FrenchDeck()\n",
    "shuffle(deck)"
   ]
  },
  {
   "cell_type": "markdown",
   "metadata": {},
   "source": [
    "The error raises, because `shuffle()` operates in place and a `FrenchDeck` object is immutable: it doesn't have a `__setitem__()`.\n",
    "\n",
    "But here, we can monkey patch:"
   ]
  },
  {
   "cell_type": "code",
   "execution_count": null,
   "metadata": {},
   "outputs": [
    {
     "data": {
      "text/plain": [
       "[Card(rank='2', suit='hearts'),\n",
       " Card(rank='J', suit='spades'),\n",
       " Card(rank='10', suit='diamonds'),\n",
       " Card(rank='4', suit='spades'),\n",
       " Card(rank='J', suit='clubs')]"
      ]
     },
     "execution_count": 3,
     "metadata": {},
     "output_type": "execute_result"
    }
   ],
   "source": [
    "def set_card(deck, position, card): # `deck` here is like passing `self`\n",
    "    deck._cards[position] = card\n",
    "\n",
    "# at runtime, we assign a new method to the class by setting a function as an attribute named `__setitem__`:\n",
    "FrenchDeck.__setitem__ = set_card\n",
    "shuffle(deck)\n",
    "\n",
    "deck[:5]"
   ]
  },
  {
   "cell_type": "markdown",
   "metadata": {},
   "source": [
    "Note: random.shuffle doesn’t care about the class of the argument, it only needs the object to implement methods from the mutable sequence protocol.\n",
    "\n",
    "#### Defensive Programming and “Fail Fast”\n",
    "- means raising runtime errors as soon as possible, for example, rejecting invalid arguments right a the beginning of a function body\n",
    "- we want to see `TypeError` exceptions in `__init__()` ideally --> easy to find and to fix\n",
    "- use `try`/`except` if we want to customize the error message (for instance in API)\n",
    "- we can do this by either calling functions on inputs early in the code that need to be called anyways (such as `iter()` or `list()`) or by using `isinstance()`\n",
    "    - try to make some argument quark like a duck first, then deal with what happens if it doesn't\n",
    "\n",
    "### Goose Typing\n",
    "- abstract base classes can be used to define what other languages call an interface\n",
    "- but abcs are not checked at runtime, only by type checkers like IDEs or interpreters would implement them\n",
    "- abcs complement duck typing by providing a way to define interfaces and thus providing virtual subclasses (subclasses without inheritance)\n",
    "- \"What goose typing means is: `isinstance(obj, cls)` is now just fine…as long as cls is an abstract base class\"\n",
    "    - this ensures very abstract, clearly separated functionalities to be checked\n",
    "    - because something like this is not good to check against:\n",
    "    \n",
    "            ```    \n",
    "            class Artist:\n",
    "                def draw(self): ...\n",
    "\n",
    "            class Gunslinger:\n",
    "                def draw(self): ...\n",
    "\n",
    "            class Lottery:\n",
    "                def draw(self): ...\n",
    "            ``` \n",
    "- `register` class method, which lets end-user code “declare” that a certain class becomes a “virtual” subclass of an ABC\n",
    "    - then it is a virtual subclass\n",
    "\n",
    "- and sometimes, we don't even need to register, if the class implements certain methods also present in an abc:"
   ]
  },
  {
   "cell_type": "code",
   "execution_count": 4,
   "metadata": {},
   "outputs": [
    {
     "data": {
      "text/plain": [
       "True"
      ]
     },
     "execution_count": 4,
     "metadata": {},
     "output_type": "execute_result"
    }
   ],
   "source": [
    "class Struggle:\n",
    "    def __len__(self): return 23\n",
    "\n",
    "from collections import abc\n",
    "isinstance(Struggle(), abc.Sized)"
   ]
  },
  {
   "cell_type": "markdown",
   "metadata": {},
   "source": [
    "`Struggle()` is recognised as an instance of `abc.Sized` because it implements `__len__()` AND because `__len__()` is callable without arguments and returns a nonnegative integer denoting an object’s “length”.\n",
    "\n",
    "\"To summarize, goose typing entails:\n",
    "- Subclassing from ABCs to make it explict that you are implementing a previously defined interface.\n",
    "- Runtime type checking using ABCs instead of concrete classes as the second argument for isinstance and issubclass.\"\n",
    "\n",
    "#### Subclassing an ABC\n",
    "- the standard way to declare an ABC is to subclass abc.ABC or any other ABC"
   ]
  },
  {
   "cell_type": "code",
   "execution_count": null,
   "metadata": {},
   "outputs": [],
   "source": [
    "from collections import namedtuple, abc\n",
    "\n",
    "Card = namedtuple('Card', ['rank', 'suit'])\n",
    "\n",
    "class FrenchDeck2(abc.MutableSequence):\n",
    "    ranks = [str(n) for n in range(2, 11)] + list('JQKA')\n",
    "    suits = 'spades diamonds clubs hearts'.split()\n",
    "\n",
    "    def __init__(self):\n",
    "        self._cards = [Card(rank, suit) for suit in self.suits\n",
    "                                        for rank in self.ranks]\n",
    "\n",
    "    def __len__(self):\n",
    "        return len(self._cards)\n",
    "\n",
    "    def __getitem__(self, position):\n",
    "        return self._cards[position]\n",
    "\n",
    "    def __setitem__(self, position, value): # we need this to make the FrenchDeck2 object shufflable\n",
    "        self._cards[position] = value\n",
    "\n",
    "    # we don't need this, but `abc.MutableSequence` requires us to implement this by having an abstract method for this\n",
    "    def __delitem__(self, position):\n",
    "        del self._cards[position]\n",
    "\n",
    "    # we don't need this, but `abc.MutableSequence` requires us to implement this by having an abstract method for this\n",
    "    def insert(self, position, value):\n",
    "        self._cards.insert(position, value)"
   ]
  },
  {
   "cell_type": "markdown",
   "metadata": {},
   "source": [
    "We have to implement `__delitem__` and `insert()` because of inheritance from an abstract base class. But it also provides us with 8 more methods that are not abstract methods. We could override them with our own - more efficient - implementations, but we don't need to.\n",
    "\n",
    "#### ABCs in the Standard Library\n",
    "- most abcs are defined in the `collections.abc` module, but there are more in `io`, `numbers` and others\n",
    "- `collections.abc` has a [table](https://docs.python.org/3/library/collections.abc.html#collections-abstract-base-classes) describing methods and abstract methods their abc implement\n",
    "- a few of these are:\n",
    "    - `Iterable` supports iteration with `__iter__`\n",
    "    - `Container` supports the `in` operator with `__contains__`\n",
    "    - `Sized` supports `len()` with `\n",
    "    - `Collection` has no methods of its own, but was added in Python 3.6 to make it easier to subclass from Iterable, Container, and Sized\n",
    "    - `Sequence`, `Mapping`, `Set` are immutable and each has a mutable subclass\n",
    "    - `Callable`, `Hashable` are not collections, but still in here; they support type checking objects that must be callable or hashable\n",
    "\n",
    "#### Defining and Using an ABC\n",
    "- should be done seldomly, mostly the abc that are already there, are enough\n",
    "- inheriting from `abc.ABC` is used to create a new abstract base class\n",
    "- \"An abstract method can actually have an implementation. Even if it does, subclasses will still be forced to override it, but they will be able to invoke the abstract method with super(), adding functionality to it instead of implementing from scratch.\""
   ]
  },
  {
   "cell_type": "code",
   "execution_count": null,
   "metadata": {},
   "outputs": [],
   "source": [
    "import abc\n",
    "\n",
    "class Tombola(abc.ABC):\n",
    "\n",
    "    @abc.abstractmethod\n",
    "    def load(self, iterable):\n",
    "        \"\"\"Add items from an iterable.\"\"\"\n",
    "\n",
    "    @abc.abstractmethod\n",
    "    def pick(self):\n",
    "        \"\"\"Remove item at random, returning it.\n",
    "        This method should raise `LookupError` when the instance is empty.\n",
    "        \"\"\"\n",
    "\n",
    "    def loaded(self):\n",
    "        \"\"\"Return `True` if there's at least 1 item, `False` otherwise.\"\"\"\n",
    "        return bool(self.inspect())         # this is very expensive, since it calls inspect()\n",
    "\n",
    "    def inspect(self):\n",
    "        \"\"\"Return a sorted tuple with the items currently inside.\"\"\"\n",
    "        items = []                          # silly code that can be overridden by subclasses\n",
    "        while True:\n",
    "            try:\n",
    "                items.append(self.pick())\n",
    "            except LookupError:\n",
    "                break\n",
    "        self.load(items)\n",
    "        return tuple(items)"
   ]
  },
  {
   "cell_type": "code",
   "execution_count": 7,
   "metadata": {},
   "outputs": [
    {
     "data": {
      "text/plain": [
       "__main__.Fake"
      ]
     },
     "execution_count": 7,
     "metadata": {},
     "output_type": "execute_result"
    }
   ],
   "source": [
    "# subclass from Tombola\n",
    "class Fake(Tombola):\n",
    "    def pick(self):\n",
    "        return 13\n",
    "\n",
    "Fake"
   ]
  },
  {
   "cell_type": "code",
   "execution_count": null,
   "metadata": {},
   "outputs": [
    {
     "ename": "TypeError",
     "evalue": "Can't instantiate abstract class Fake without an implementation for abstract method 'load'",
     "output_type": "error",
     "traceback": [
      "\u001b[0;31m---------------------------------------------------------------------------\u001b[0m",
      "\u001b[0;31mTypeError\u001b[0m                                 Traceback (most recent call last)",
      "Cell \u001b[0;32mIn[8], line 1\u001b[0m\n\u001b[0;32m----> 1\u001b[0m f \u001b[38;5;241m=\u001b[39m \u001b[43mFake\u001b[49m\u001b[43m(\u001b[49m\u001b[43m)\u001b[49m\n",
      "\u001b[0;31mTypeError\u001b[0m: Can't instantiate abstract class Fake without an implementation for abstract method 'load'"
     ]
    }
   ],
   "source": [
    "# Fake is still an abc, because it doesn't implement its own load() method\n",
    "f = Fake()"
   ]
  },
  {
   "cell_type": "markdown",
   "metadata": {},
   "source": [
    "Implementing real subclasses from our own abc `Tombola`:"
   ]
  },
  {
   "cell_type": "code",
   "execution_count": 9,
   "metadata": {},
   "outputs": [],
   "source": [
    "import random\n",
    "\n",
    "class BingoCage(Tombola):\n",
    "\n",
    "    def __init__(self, items):\n",
    "        self._randomizer = random.SystemRandom()\n",
    "        self._items = []\n",
    "        self.load(items)\n",
    "\n",
    "    def load(self, items):\n",
    "        self._items.extend(items)\n",
    "        self._randomizer.shuffle(self._items)\n",
    "\n",
    "    def pick(self):\n",
    "        try:\n",
    "            return self._items.pop()\n",
    "        except IndexError:\n",
    "            raise LookupError('pick from empty BingoCage')\n",
    "\n",
    "    def __call__(self):\n",
    "        self.pick()"
   ]
  },
  {
   "cell_type": "markdown",
   "metadata": {},
   "source": [
    "`BingoCage` inherits the the expensive `loaded()` and the silly `inspect()` method from `Tombola` and implements one additional method, `__call__()`.\n",
    "\n",
    "Alternative subclass:"
   ]
  },
  {
   "cell_type": "code",
   "execution_count": 10,
   "metadata": {},
   "outputs": [],
   "source": [
    "class LottoBlower(Tombola):\n",
    "\n",
    "    def __init__(self, iterable):\n",
    "        self._balls = list(iterable)    # defensive programming: making sure `iterable` can be converted into \n",
    "                                        # a list early (because we want to use `.pop()` on it);\n",
    "                                        # list(iterable) also creates a copy, which is good practice\n",
    "\n",
    "    def load(self, iterable):\n",
    "        self._balls.extend(iterable)\n",
    "\n",
    "    def pick(self):\n",
    "        try:\n",
    "            position = random.randrange(len(self._balls))\n",
    "        except ValueError:\n",
    "            raise LookupError('pick from empty LottoBlower')\n",
    "        return self._balls.pop(position)\n",
    "\n",
    "    def loaded(self):               # faster than the inherited method from Tombola\n",
    "        return bool(self._balls)\n",
    "\n",
    "    def inspect(self):              # faster too and more straightforward\n",
    "        return tuple(self._balls)"
   ]
  },
  {
   "cell_type": "markdown",
   "metadata": {},
   "source": [
    "#### A Virtual Subclass of an ABC\n",
    "- to register a class as a virtual subclass of an ABC, even if it does not inherit from it\n",
    "- we promise that the class faithfully implements the interface defined in the ABC—and Python will believe us without checking\n",
    "- will be recognized as such by `issubclass()`, but it does not inherit any methods or attributes from the ABC"
   ]
  },
  {
   "cell_type": "code",
   "execution_count": 12,
   "metadata": {},
   "outputs": [],
   "source": [
    "from random import randrange\n",
    "\n",
    "@Tombola.register # there is a register function too (Tombola.register(TomboList)), but here we use the register decorator\n",
    "class TomboList(list):\n",
    "\n",
    "    def pick(self):\n",
    "        if self:  # inherits its boolean behavior from list, and that returns True if the list is not empty\n",
    "            position = randrange(len(self))\n",
    "            return self.pop(position)  # pick calls self.pop, inherited from list, passing a random item index\n",
    "        else:\n",
    "            raise LookupError('pop from empty TomboList')\n",
    "\n",
    "    load = list.extend  # Tombolist.load is the same as list.extend\n",
    "\n",
    "    def loaded(self):\n",
    "        return bool(self)  \n",
    "\n",
    "    def inspect(self):\n",
    "        return tuple(self)\n"
   ]
  },
  {
   "cell_type": "code",
   "execution_count": 13,
   "metadata": {},
   "outputs": [
    {
     "data": {
      "text/plain": [
       "True"
      ]
     },
     "execution_count": 13,
     "metadata": {},
     "output_type": "execute_result"
    }
   ],
   "source": [
    "issubclass(TomboList, Tombola) # because of the registration"
   ]
  },
  {
   "cell_type": "code",
   "execution_count": 14,
   "metadata": {},
   "outputs": [
    {
     "data": {
      "text/plain": [
       "True"
      ]
     },
     "execution_count": 14,
     "metadata": {},
     "output_type": "execute_result"
    }
   ],
   "source": [
    "t = TomboList(range(100))\n",
    "isinstance(t, Tombola) # because of the registration"
   ]
  },
  {
   "cell_type": "code",
   "execution_count": 15,
   "metadata": {},
   "outputs": [
    {
     "data": {
      "text/plain": [
       "(__main__.TomboList, list, object)"
      ]
     },
     "execution_count": 15,
     "metadata": {},
     "output_type": "execute_result"
    }
   ],
   "source": [
    "TomboList.__mro__ # mro only lists real superclasses, not virtual ones"
   ]
  },
  {
   "cell_type": "markdown",
   "metadata": {},
   "source": [
    "#### Usage of register in Practice\n",
    "- many in-build classes (like tuple) are also registering at abcs behind the scenes at import time\n",
    "\n",
    "#### Structural Typing with ABCs\n",
    "- sometimes, classes can be recognised as a sublcass (for instance by `issubclass()`) even without inheritin or registering only based on similar methods available\n",
    "- this is due to a class method called `__subclasskook__()`\n",
    "- for instance, the `__subclasshook__` for `Sized` checks whether the class argument has an attribute named `__len__`.\n",
    "\n",
    "### Static Protocols\n",
    "\n",
    "- introduced in [PEP 544](https://peps.python.org/pep-0544/)\n",
    "\n",
    "- Question: Are protocols only for type checking or not actually usable like an abstract base class?"
   ]
  },
  {
   "cell_type": "code",
   "execution_count": null,
   "metadata": {},
   "outputs": [],
   "source": [
    "from typing import TypeVar, Protocol\n",
    "\n",
    "T = TypeVar('T') # TypeVar() acts as a placeholder for an unspecified type; T is a type variable\n",
    "\n",
    "class Repeatable(Protocol):\n",
    "    def __mul__(self: T, repeat_count: int) -> T: ...  # let type checker know that the return value is the same type as self\n",
    "\n",
    "RT = TypeVar('RT', bound=Repeatable) # bound means that RT can only represent types that fulfill the requirements of `Repeatable`\n",
    "\n",
    "def double(x: RT) -> RT: # since RT is bound to `Repeatable`, `x` must support the `__mul__` operation as defined in `Repeatable`\n",
    "    return x * 2"
   ]
  },
  {
   "cell_type": "markdown",
   "metadata": {},
   "source": [
    "`T = TypeVar('T')` is a way to explain to the type checker that the return type is the same as the type of the argument `self`, see this [link](https://dev.to/decorator_factory/typevars-explained-hmo) for an explanation.\n",
    "\n",
    "`RT = TypeVar('RT', bound=Repeatable)` fulfills the same purpose as `T` above, and the `bound` means that `RT` can only represent types that fulfill the requirements of `Repeatable`. And since `Repeatable` is a `Protocol` specifying that an object must have a `__mul__` method that returns the same type as itself, any type assigned to RT must support this multiplication operation (`*`).\n",
    "\n",
    "**Use case**: Enforce that any object passed to double must support the `__mul__` method.\n",
    "\"The nominal type of the actual argument x given to double is irrelevant as long as it quacks—that is, as long as it implements `__mul__`.\"\n",
    "\n",
    "#### Runtime Checkable Static Protocols\n",
    "- using Protocol class enables static type checking, but we can use the `@runtime_checkable` decorator to make that protocol support `isinstance`/`issubclass` checks at runtime\n",
    "- if I understand correctly, then some or all types defined in `typing` are at the same time a `Protocol`\n",
    "    - for instance `typing.SupportsComplex` is a `Protocol`; it's only special code is this:"
   ]
  },
  {
   "cell_type": "code",
   "execution_count": 21,
   "metadata": {},
   "outputs": [
    {
     "ename": "IndentationError",
     "evalue": "unexpected indent (4011459289.py, line 3)",
     "output_type": "error",
     "traceback": [
      "\u001b[0;36m  Cell \u001b[0;32mIn[21], line 3\u001b[0;36m\u001b[0m\n\u001b[0;31m    @abstractmethod\u001b[0m\n\u001b[0m    ^\u001b[0m\n\u001b[0;31mIndentationError\u001b[0m\u001b[0;31m:\u001b[0m unexpected indent\n"
     ]
    }
   ],
   "source": [
    "from abc import abstractmethod\n",
    "\n",
    "    @abstractmethod\n",
    "    def __complex__(self) -> complex:\n",
    "        pass"
   ]
  },
  {
   "cell_type": "markdown",
   "metadata": {},
   "source": [
    "- with the `@runtime_checkable` decorator, the `SupportsComplex` `Protocol` class can be used at runtime\n",
    "- example:"
   ]
  },
  {
   "cell_type": "code",
   "execution_count": 22,
   "metadata": {},
   "outputs": [
    {
     "data": {
      "text/plain": [
       "False"
      ]
     },
     "execution_count": 22,
     "metadata": {},
     "output_type": "execute_result"
    }
   ],
   "source": [
    "from typing import SupportsComplex\n",
    "import numpy as np\n",
    "\n",
    "c64 = np.complex64(3+4j) # complex64 is one of five complex number types provided by NumPy\n",
    "isinstance(c64, complex) #None of the NumPy complex types subclass the built-in complex."
   ]
  },
  {
   "cell_type": "code",
   "execution_count": 23,
   "metadata": {},
   "outputs": [
    {
     "data": {
      "text/plain": [
       "True"
      ]
     },
     "execution_count": 23,
     "metadata": {},
     "output_type": "execute_result"
    }
   ],
   "source": [
    "isinstance(c64, SupportsComplex) # But NumPy’s complex types implement __complex__, so they comply with the SupportsComplex protocol"
   ]
  },
  {
   "cell_type": "code",
   "execution_count": 24,
   "metadata": {},
   "outputs": [
    {
     "data": {
      "text/plain": [
       "(3+4j)"
      ]
     },
     "execution_count": 24,
     "metadata": {},
     "output_type": "execute_result"
    }
   ],
   "source": [
    "c = complex(c64) # therefore, we can create built-in complex objects from them (which are also complex)\n",
    "c"
   ]
  },
  {
   "cell_type": "code",
   "execution_count": null,
   "metadata": {},
   "outputs": [
    {
     "data": {
      "text/plain": [
       "True"
      ]
     },
     "execution_count": 25,
     "metadata": {},
     "output_type": "execute_result"
    }
   ],
   "source": [
    "isinstance(c, SupportsComplex) # the complex built-in type simplement __complex__ itself \n",
    "# (in Fluent Python that was not so, but maybe this has changed in the meantime)"
   ]
  },
  {
   "cell_type": "code",
   "execution_count": 26,
   "metadata": {},
   "outputs": [
    {
     "data": {
      "text/plain": [
       "(3+4j)"
      ]
     },
     "execution_count": 26,
     "metadata": {},
     "output_type": "execute_result"
    }
   ],
   "source": [
    "complex(c) # complex(c) works fine if c is a complex"
   ]
  },
  {
   "cell_type": "markdown",
   "metadata": {},
   "source": [
    "#### Duck Typing is your Friend\n",
    "--> it's easier to ask for forgiveness than permission\n",
    "\n",
    "`Protocol` way:\n",
    "```\n",
    "if isinstance(o, (complex, SupportsComplex)):\n",
    "    # do something that requires `o` to be convertible to complex\n",
    "else:\n",
    "    raise TypeError('o must be convertible to complex')\n",
    "```\n",
    "\n",
    "Goose typing way:\n",
    "```\n",
    "if isinstance(o, numbers.Complex):\n",
    "    # do something with `o`, an instance of `Complex`\n",
    "else:\n",
    "    raise TypeError('o must be an instance of Complex')\n",
    "```\n",
    "\n",
    "Duck typing way:\n",
    "```\n",
    "try:\n",
    "    c = complex(o)\n",
    "except TypeError as exc:\n",
    "    raise TypeError('o must be convertible to complex') from exc\n",
    "```\n",
    "\n",
    "or simply `c = complex(o)` in case it's our own code (not API for others to use) and we don't need to raise a new error message\n",
    "\n",
    "#### Limitations of Runtime Protocol Checks\n",
    "- type checking at runtime (using `isinstance()` or `issubclass()`) only checks if a method is available, not if it returns the correct type (type hints are not included)\n",
    "    - these checks only look at the presence or absence of methods, without checking their signatures\n",
    "\n",
    "#### Supporting and Designing a Static Protocol\n",
    "- making a custom stating Protocol:"
   ]
  },
  {
   "cell_type": "code",
   "execution_count": 27,
   "metadata": {},
   "outputs": [],
   "source": [
    "from typing import Protocol, runtime_checkable, Any\n",
    "\n",
    "@runtime_checkable\n",
    "class RandomPicker(Protocol):\n",
    "    def pick(self) -> Any: ...\n",
    "    \"\"\"Some docstring like in abstract methods.\"\"\""
   ]
  },
  {
   "cell_type": "markdown",
   "metadata": {},
   "source": [
    "- `SimplePicker` class uses this `RandomPicker` Protocol as a blueprint:"
   ]
  },
  {
   "cell_type": "code",
   "execution_count": 29,
   "metadata": {},
   "outputs": [],
   "source": [
    "import random\n",
    "from typing import Any, Iterable, TYPE_CHECKING\n",
    "\n",
    "class SimplePicker: # SimplePicker implements RandomPicker—but it does not subclass it. This is static duck typing in action\n",
    "    def __init__(self, items: Iterable) -> None:\n",
    "        self._items = list(items)\n",
    "        random.shuffle(self._items)\n",
    "\n",
    "    def pick(self) -> Any:  # Any is the default return type, so this annotation is not strictly necessary, \n",
    "                            # but it does make it more clear that we are implementing the RandomPicker protocol\n",
    "        return self._items.pop()"
   ]
  },
  {
   "cell_type": "markdown",
   "metadata": {},
   "source": [
    "- Question: but how does `SimplePicker` know that `RandomPicker` is supposed to be its `Protocol`?\n",
    "\n",
    "- this is how we could test if it works:"
   ]
  },
  {
   "cell_type": "code",
   "execution_count": 30,
   "metadata": {},
   "outputs": [],
   "source": [
    "def test_isinstance() -> None:\n",
    "    popper: RandomPicker = SimplePicker([1]) # RandomPicker is a type hint, tested only by mypy\n",
    "    assert isinstance(popper, RandomPicker) # proves that an instance of SimplePicker is also an instance of RandomPicker\n",
    "\n",
    "def test_item_type() -> None:\n",
    "    \"\"\"This test invokes the pick method from a SimplePicker, verifies that it returns\n",
    "    one of the items given to SimplePicker, and then does static and runtime checks on\n",
    "    the returned item.\"\"\"\n",
    "    items = [1, 2]\n",
    "    popper = SimplePicker(items)\n",
    "    item = popper.pick()\n",
    "    assert item in items\n",
    "    \n",
    "    # this is for static type checking in mypy\n",
    "    if TYPE_CHECKING:   # if block is protected by typing.TYPE_CHECKING, which is only True \n",
    "                        # in the eyes of a static type checker, but is False at runtime\n",
    "        reveal_type(item) # This line generates a note in the Mypy output\n",
    "\n",
    "    # this is for runtime type checking    \n",
    "    assert isinstance(item, int)"
   ]
  },
  {
   "cell_type": "markdown",
   "metadata": {},
   "source": [
    "#### Best Practices for Protocol Design\n",
    "- minimalistic protocols ideally only supporting one method\n",
    "- talks about naming conventions\n",
    "\n",
    "#### Extending a Protocol\n",
    "- a few caveats:"
   ]
  },
  {
   "cell_type": "code",
   "execution_count": 31,
   "metadata": {},
   "outputs": [],
   "source": [
    "from typing import Protocol, runtime_checkable\n",
    "\n",
    "@runtime_checkable # we must apply the decorator again; its behavior is not inherited\n",
    "class LoadableRandomPicker(RandomPicker, Protocol): # very protocol must explicitly name \n",
    "                                                    # `typing.Protocol` as one of its base classes in addition \n",
    "                                                    # to the protocol we are extending; this is different from \n",
    "                                                    # how inheritance usually works\n",
    "    def load(self, Iterable) -> None: ..."
   ]
  },
  {
   "cell_type": "markdown",
   "metadata": {},
   "source": [
    "#### The numbers ABCs and Numeric Protocols\n"
   ]
  },
  {
   "cell_type": "markdown",
   "metadata": {},
   "source": [
    "- runtime type checking is well defined in Python for numeric types\n",
    "    - for instance, checking for an integer: use `isinstance(x, numbers.Integral)` to accept `int`, `bool` (which subclasses int) or other integer types that are provided by external libraries that register their types as virtual subclasses of the numbers ABCs\n",
    "        - numpy has 21 integer types, such as `int32`\n",
    "        - but remember: `isinstance()` might return misleading results, since it only checks for methods implemented, not their signatures nor type hints in the signature\n",
    "        - and the other way around might also give misleading results: e.i. `numpy.uint8`, doesnt have a` __complex__` method (and would thus fail the `isinstance(x, SupportsComplex)` check), but could easily implement it (if we do it -- via monkeypatching???)\n",
    "- it's not so easy for static type checking: currently it is recommenden that type checkers hardcode the subtype relationships among built-in `complex`, `float`, and `int`"
   ]
  }
 ],
 "metadata": {
  "kernelspec": {
   "display_name": "fluent_python",
   "language": "python",
   "name": "python3"
  },
  "language_info": {
   "codemirror_mode": {
    "name": "ipython",
    "version": 3
   },
   "file_extension": ".py",
   "mimetype": "text/x-python",
   "name": "python",
   "nbconvert_exporter": "python",
   "pygments_lexer": "ipython3",
   "version": "3.12.2"
  }
 },
 "nbformat": 4,
 "nbformat_minor": 2
}
