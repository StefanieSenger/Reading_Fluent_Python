{
 "cells": [
  {
   "cell_type": "markdown",
   "metadata": {},
   "source": [
    "# 09 Decorators and Closures\n",
    "Some notes, observations and questions along chapter 09.\n",
    "\n",
    "\"Function decorators let us “mark” functions in the source code to enhance their behavior in some way. This is powerful stuff, but mastering it requires understanding closures—which is what we get when functions capture variables defined outside of their bodies.\"\n",
    "\n",
    "### Decorators 101\n",
    "\"A decorator is a callable that takes another function as an argument (the decorated function).\""
   ]
  },
  {
   "cell_type": "code",
   "execution_count": 15,
   "metadata": {},
   "outputs": [
    {
     "name": "stdout",
     "output_type": "stream",
     "text": [
      "running target()\n",
      "running target()\n"
     ]
    }
   ],
   "source": [
    "# both the same\n",
    "\n",
    "def decorate(func):\n",
    "    return func\n",
    "\n",
    "# no. 1\n",
    "@decorate\n",
    "def target():\n",
    "    print('running target()')\n",
    "\n",
    "target()\n",
    "\n",
    "# no. 2\n",
    "def target():\n",
    "    print('running target()')\n",
    "\n",
    "target = decorate(target)\n",
    "\n",
    "target()"
   ]
  },
  {
   "cell_type": "code",
   "execution_count": 13,
   "metadata": {},
   "outputs": [
    {
     "name": "stdout",
     "output_type": "stream",
     "text": [
      "running inner()\n"
     ]
    }
   ],
   "source": [
    "# a decorated function is in fact replaced:\n",
    "def deco(func):\n",
    "    def inner():\n",
    "        print('running inner()')\n",
    "    return inner\n",
    "\n",
    "@deco\n",
    "def target():\n",
    "    print('running target()')\n",
    "\n",
    "target()"
   ]
  },
  {
   "cell_type": "code",
   "execution_count": 7,
   "metadata": {},
   "outputs": [
    {
     "data": {
      "text/plain": [
       "<function __main__.deco.<locals>.inner()>"
      ]
     },
     "execution_count": 7,
     "metadata": {},
     "output_type": "execute_result"
    }
   ],
   "source": [
    "# inspection reveals that target is a now a reference to inner:\n",
    "target"
   ]
  },
  {
   "cell_type": "markdown",
   "metadata": {},
   "source": [
    "The decorator needs to return a function (or callable) to make `target()` callable, otherwise we get an error. We can return any function, so we can theoretically swap the passed function for something totally different. However, if we want to still use the decorated function, we need to call it from inside `inner()` and return it.\n",
    "\n",
    "### When Python Executes Decorators\n",
    "\n",
    "Decorators are executed immediately when a module is loaded, which is usually at import time."
   ]
  },
  {
   "cell_type": "code",
   "execution_count": 21,
   "metadata": {},
   "outputs": [
    {
     "name": "stdout",
     "output_type": "stream",
     "text": [
      "running register(<function f1 at 0x703e5eb2c2c0>)\n",
      "running register(<function f2 at 0x703e5eb2efc0>)\n",
      "running main()\n",
      "registry -> [<function f1 at 0x703e5eb2c2c0>, <function f2 at 0x703e5eb2efc0>]\n",
      "running f1()\n",
      "running f2()\n",
      "running f3()\n"
     ]
    }
   ],
   "source": [
    "registry = [] # will hold references to functions decorated by @register\n",
    "\n",
    "def register(func):\n",
    "    # this is a bit different from usual decorators, in that it is not defining an inner() function\n",
    "    # and thus cannot change the decorated function; \n",
    "    # and also, usually a decorator would be defined in a different file and would be imported\n",
    "    print(f'running register({func})')\n",
    "    registry.append(func)\n",
    "    return func # we must return a function\n",
    "\n",
    "@register\n",
    "def f1():\n",
    "    print('running f1()')\n",
    "\n",
    "@register\n",
    "def f2():\n",
    "    print('running f2()')\n",
    "\n",
    "def f3():\n",
    "    print('running f3()')\n",
    "\n",
    "def main(): # main() is run after the decorated functions are run\n",
    "    print('running main()')\n",
    "    print('registry ->', registry)\n",
    "    f1()\n",
    "    f2()\n",
    "    f3()\n",
    "\n",
    "if __name__ == '__main__':\n",
    "    main()"
   ]
  },
  {
   "cell_type": "markdown",
   "metadata": {},
   "source": [
    "This is the output when this code cell (or we could also imagine it was a file) is run as a script. `register()` runs (twice) before any other function in the module, even before `main()`.\n",
    "\n",
    "If it is imported, `main()` is not run, but still `register()` is run twice.\n",
    "\n",
    "    >>> import registration\n",
    "    --------------\n",
    "    running register(<function f1 at 0x10063b1e0>)\n",
    "    running register(<function f2 at 0x10063b268>)\n",
    "\n",
    "The registry would be filled with f1 and f2.\n",
    "\n",
    "Main take away: \"Decorators are executed as soon as the module is imported, but the decorated functions only run when they are explicitly invoked. This highlights the difference between what Pythonistas call import time and runtime.\"\n",
    "\n",
    "#### Question: \n",
    "What is the purpose of this? It feels like a bug. (Of cause it isn't.)\n",
    "\n",
    "#### Answers:\n",
    "- setup or configuration for the entire module\n",
    "- control over function behavior before execution: alter function's behavior in advance but without invoking it\n",
    "- especially useful in situations like registering functions, logging, security checks, or memoization\n",
    "\n",
    "### How variable scope works in Python\n",
    "- decorators that want to alter the decorated function's behaviour, do so with an inner function that relies on closures\n",
    "- to understand closures we are now looking at variable scopes\n"
   ]
  },
  {
   "cell_type": "code",
   "execution_count": 23,
   "metadata": {},
   "outputs": [
    {
     "name": "stdout",
     "output_type": "stream",
     "text": [
      "3\n"
     ]
    },
    {
     "ename": "UnboundLocalError",
     "evalue": "cannot access local variable 'b' where it is not associated with a value",
     "output_type": "error",
     "traceback": [
      "\u001b[0;31m---------------------------------------------------------------------------\u001b[0m",
      "\u001b[0;31mUnboundLocalError\u001b[0m                         Traceback (most recent call last)",
      "Cell \u001b[0;32mIn[23], line 8\u001b[0m\n\u001b[1;32m      5\u001b[0m     \u001b[38;5;28mprint\u001b[39m(b)\n\u001b[1;32m      6\u001b[0m     b \u001b[38;5;241m=\u001b[39m \u001b[38;5;241m9\u001b[39m\n\u001b[0;32m----> 8\u001b[0m \u001b[43mf2\u001b[49m\u001b[43m(\u001b[49m\u001b[38;5;241;43m3\u001b[39;49m\u001b[43m)\u001b[49m\n",
      "Cell \u001b[0;32mIn[23], line 5\u001b[0m, in \u001b[0;36mf2\u001b[0;34m(a)\u001b[0m\n\u001b[1;32m      3\u001b[0m \u001b[38;5;28;01mdef\u001b[39;00m \u001b[38;5;21mf2\u001b[39m(a):\n\u001b[1;32m      4\u001b[0m     \u001b[38;5;28mprint\u001b[39m(a)\n\u001b[0;32m----> 5\u001b[0m     \u001b[38;5;28mprint\u001b[39m(\u001b[43mb\u001b[49m)\n\u001b[1;32m      6\u001b[0m     b \u001b[38;5;241m=\u001b[39m \u001b[38;5;241m9\u001b[39m\n",
      "\u001b[0;31mUnboundLocalError\u001b[0m: cannot access local variable 'b' where it is not associated with a value"
     ]
    }
   ],
   "source": [
    "# surprising example:\n",
    "b = 6\n",
    "def f2(a):\n",
    "    print(a)\n",
    "    print(b) # the code breaks, because `b` is interpreted as a local variable \n",
    "    # (as soon as there is a local variable `b`, the global variable `b` is not taken into account)\n",
    "    b = 9\n",
    "\n",
    "f2(3)"
   ]
  },
  {
   "cell_type": "markdown",
   "metadata": {},
   "source": [
    "\"This is not a bug, but a design choice: Python does not require you to declare variables, but assumes that a variable assigned in the body of a function is local.\""
   ]
  },
  {
   "cell_type": "code",
   "execution_count": 25,
   "metadata": {},
   "outputs": [
    {
     "name": "stdout",
     "output_type": "stream",
     "text": [
      "3\n",
      "6\n"
     ]
    }
   ],
   "source": [
    "# to tell interpreter to treat b as a global variable and still assign a new value to it within the function:\n",
    "b = 6\n",
    "def f3(a):\n",
    "    global b\n",
    "    print(a)\n",
    "    print(b)\n",
    "    b = 9\n",
    "\n",
    "f3(3)"
   ]
  },
  {
   "cell_type": "markdown",
   "metadata": {},
   "source": [
    "### Closures\n",
    "A closure is a function that captures and \"remembers\" variables from its surrounding (non-global) scope, even after that scope has finished executing. This happens when a function is defined within another function, and the inner function refers to variables from the outer function.\n",
    "\n",
    "Example: consider a function (in this case a `callable`) that averages over an ever growing list of numbers:"
   ]
  },
  {
   "cell_type": "code",
   "execution_count": 27,
   "metadata": {},
   "outputs": [
    {
     "data": {
      "text/plain": [
       "10.0"
      ]
     },
     "execution_count": 27,
     "metadata": {},
     "output_type": "execute_result"
    }
   ],
   "source": [
    "class Averager():\n",
    "\n",
    "    def __init__(self):\n",
    "        self.series = []\n",
    "\n",
    "    def __call__(self, new_value):\n",
    "        self.series.append(new_value)\n",
    "        total = sum(self.series)\n",
    "        return total / len(self.series)\n",
    "    \n",
    "avg = Averager()\n",
    "avg(10)"
   ]
  },
  {
   "cell_type": "code",
   "execution_count": 28,
   "metadata": {},
   "outputs": [
    {
     "data": {
      "text/plain": [
       "10.5"
      ]
     },
     "execution_count": 28,
     "metadata": {},
     "output_type": "execute_result"
    }
   ],
   "source": [
    "avg(11)"
   ]
  },
  {
   "cell_type": "code",
   "execution_count": 29,
   "metadata": {},
   "outputs": [
    {
     "data": {
      "text/plain": [
       "11.0"
      ]
     },
     "execution_count": 29,
     "metadata": {},
     "output_type": "execute_result"
    }
   ],
   "source": [
    "avg(12)"
   ]
  },
  {
   "cell_type": "markdown",
   "metadata": {},
   "source": [
    "Instead of a callable, we can also use a higher order function to remember:"
   ]
  },
  {
   "cell_type": "code",
   "execution_count": 38,
   "metadata": {},
   "outputs": [
    {
     "data": {
      "text/plain": [
       "10.0"
      ]
     },
     "execution_count": 38,
     "metadata": {},
     "output_type": "execute_result"
    }
   ],
   "source": [
    "def make_averager():\n",
    "    series = [] # local variable of `make_averager`\n",
    "\n",
    "    def averager(new_value):\n",
    "        # we can do this without using `nonlocal` declaration, because `series` is not assigned, only appended to (because it is mutable):\n",
    "        series.append(new_value) # `averager` can access local variables of its higher order function; in here it is a free variable\n",
    "        total = sum(series)\n",
    "        return total / len(series)\n",
    "\n",
    "    return averager # `make_averager` (factory function) returns the `averager` function\n",
    "\n",
    "avg = make_averager()\n",
    "avg(10)"
   ]
  },
  {
   "cell_type": "code",
   "execution_count": 31,
   "metadata": {},
   "outputs": [
    {
     "data": {
      "text/plain": [
       "10.5"
      ]
     },
     "execution_count": 31,
     "metadata": {},
     "output_type": "execute_result"
    }
   ],
   "source": [
    "avg(11)"
   ]
  },
  {
   "cell_type": "code",
   "execution_count": 32,
   "metadata": {},
   "outputs": [
    {
     "data": {
      "text/plain": [
       "11.0"
      ]
     },
     "execution_count": 32,
     "metadata": {},
     "output_type": "execute_result"
    }
   ],
   "source": [
    "avg(12)"
   ]
  },
  {
   "cell_type": "markdown",
   "metadata": {},
   "source": [
    "`series` is a free variable in `averager` function, as we can see when inspecing the returned and called `averager` function, which is bound to the variable name `avg`:"
   ]
  },
  {
   "cell_type": "code",
   "execution_count": 33,
   "metadata": {},
   "outputs": [
    {
     "data": {
      "text/plain": [
       "('new_value', 'total')"
      ]
     },
     "execution_count": 33,
     "metadata": {},
     "output_type": "execute_result"
    }
   ],
   "source": [
    "#  `__code__` attribute represents the compiled body of the function\n",
    "avg.__code__.co_varnames"
   ]
  },
  {
   "cell_type": "code",
   "execution_count": 34,
   "metadata": {},
   "outputs": [
    {
     "data": {
      "text/plain": [
       "('series',)"
      ]
     },
     "execution_count": 34,
     "metadata": {},
     "output_type": "execute_result"
    }
   ],
   "source": [
    "avg.__code__.co_freevars"
   ]
  },
  {
   "cell_type": "code",
   "execution_count": 35,
   "metadata": {},
   "outputs": [
    {
     "data": {
      "text/plain": [
       "(<cell at 0x703e5f51eaa0: list object at 0x703e5c375080>,)"
      ]
     },
     "execution_count": 35,
     "metadata": {},
     "output_type": "execute_result"
    }
   ],
   "source": [
    "# value for series is kept in the __closure__ attribute\n",
    "avg.__closure__"
   ]
  },
  {
   "cell_type": "code",
   "execution_count": 37,
   "metadata": {},
   "outputs": [
    {
     "data": {
      "text/plain": [
       "[10, 11, 12]"
      ]
     },
     "execution_count": 37,
     "metadata": {},
     "output_type": "execute_result"
    }
   ],
   "source": [
    "# each free variable will be found in this list; the first value refers to `series`\n",
    "# the actual values are found in the `cell_contents` attribute\n",
    "avg.__closure__[0].cell_contents"
   ]
  },
  {
   "cell_type": "markdown",
   "metadata": {},
   "source": [
    "\"To summarize: a closure is a function that retains the bindings of the free variables that exist when the function is defined, so that they can be used later when the function is invoked and the defining scope is no longer available.\"\n",
    "\n",
    "#### How closures behave in loops\n",
    "\n",
    "Closures can also be used inside a loop: the closure then captures the last value of the loop variable (it remembers the reference to the variable) and not the current value of the variable during the iteration.\n",
    "\n",
    "For instance:"
   ]
  },
  {
   "cell_type": "code",
   "execution_count": 26,
   "metadata": {},
   "outputs": [
    {
     "name": "stdout",
     "output_type": "stream",
     "text": [
      "[2, 2, 2]\n"
     ]
    }
   ],
   "source": [
    "def create_closures():\n",
    "    funcs = []\n",
    "    for i in range(3):\n",
    "        def inner():\n",
    "            return i\n",
    "        funcs.append(inner)\n",
    "    return funcs\n",
    "\n",
    "closures = create_closures()\n",
    "print([f() for f in closures])  # Output: [2, 2, 2] (not [0, 1, 2])\n"
   ]
  },
  {
   "cell_type": "markdown",
   "metadata": {},
   "source": [
    "We could use the default argument trick to fix this with:\n",
    "`def inner(i=i):  # Captures the current value of i`\n",
    "\n",
    "Also see [this example](https://github.com/StefanieSenger/Playground/blob/main/late_binding_clausures.py) from the Hitchiker's Guide to Python, that shows late binding in closures when using a lambda function in a list comprehention.\n",
    "\n",
    "### The `nonlocal` Declaration\n",
    "- we use it to assign a value to an immutable type belonging to the higher order function\n",
    "- lets us declare a variable as a free variable even when it is assigned within the function\n",
    "\n",
    "This throws an error, because we try to assign to `count` in the body of `averager`:"
   ]
  },
  {
   "cell_type": "code",
   "execution_count": 40,
   "metadata": {},
   "outputs": [
    {
     "ename": "UnboundLocalError",
     "evalue": "cannot access local variable 'count' where it is not associated with a value",
     "output_type": "error",
     "traceback": [
      "\u001b[0;31m---------------------------------------------------------------------------\u001b[0m",
      "\u001b[0;31mUnboundLocalError\u001b[0m                         Traceback (most recent call last)",
      "Cell \u001b[0;32mIn[40], line 13\u001b[0m\n\u001b[1;32m     10\u001b[0m     \u001b[38;5;28;01mreturn\u001b[39;00m averager\n\u001b[1;32m     12\u001b[0m avg \u001b[38;5;241m=\u001b[39m make_averager()\n\u001b[0;32m---> 13\u001b[0m \u001b[43mavg\u001b[49m\u001b[43m(\u001b[49m\u001b[38;5;241;43m10\u001b[39;49m\u001b[43m)\u001b[49m\n",
      "Cell \u001b[0;32mIn[40], line 6\u001b[0m, in \u001b[0;36mmake_averager.<locals>.averager\u001b[0;34m(new_value)\u001b[0m\n\u001b[1;32m      5\u001b[0m \u001b[38;5;28;01mdef\u001b[39;00m \u001b[38;5;21maverager\u001b[39m(new_value):\n\u001b[0;32m----> 6\u001b[0m     \u001b[43mcount\u001b[49m \u001b[38;5;241m+\u001b[39m\u001b[38;5;241m=\u001b[39m \u001b[38;5;241m1\u001b[39m\n\u001b[1;32m      7\u001b[0m     total \u001b[38;5;241m+\u001b[39m\u001b[38;5;241m=\u001b[39m new_value\n\u001b[1;32m      8\u001b[0m     \u001b[38;5;28;01mreturn\u001b[39;00m total \u001b[38;5;241m/\u001b[39m count\n",
      "\u001b[0;31mUnboundLocalError\u001b[0m: cannot access local variable 'count' where it is not associated with a value"
     ]
    }
   ],
   "source": [
    "def make_averager():\n",
    "    count = 0\n",
    "    total = 0\n",
    "\n",
    "    def averager(new_value):\n",
    "        count += 1\n",
    "        total += new_value\n",
    "        return total / count\n",
    "\n",
    "    return averager\n",
    "\n",
    "avg = make_averager()\n",
    "avg(10)"
   ]
  },
  {
   "cell_type": "markdown",
   "metadata": {},
   "source": [
    "But this sets count and total as free (`nonlocal`) variables:"
   ]
  },
  {
   "cell_type": "code",
   "execution_count": 41,
   "metadata": {},
   "outputs": [
    {
     "data": {
      "text/plain": [
       "10.0"
      ]
     },
     "execution_count": 41,
     "metadata": {},
     "output_type": "execute_result"
    }
   ],
   "source": [
    "def make_averager():\n",
    "    count = 0\n",
    "    total = 0\n",
    "\n",
    "    def averager(new_value):\n",
    "        nonlocal count, total\n",
    "        count += 1\n",
    "        total += new_value\n",
    "        return total / count\n",
    "\n",
    "    return averager\n",
    "\n",
    "avg = make_averager()\n",
    "avg(10)"
   ]
  },
  {
   "cell_type": "markdown",
   "metadata": {},
   "source": [
    "### Implementing a Simple Decorator"
   ]
  },
  {
   "cell_type": "code",
   "execution_count": 43,
   "metadata": {},
   "outputs": [
    {
     "name": "stdout",
     "output_type": "stream",
     "text": [
      "[3.00010534s] snooze(3) -> None\n"
     ]
    }
   ],
   "source": [
    "import functools\n",
    "import time\n",
    "\n",
    "def clock(func):\n",
    "    @functools.wraps(func) # helper for building well-behaved decorators\n",
    "    def clocked(*args, **kwargs):\n",
    "        t0 = time.perf_counter()\n",
    "        result = func(*args, **kwargs)\n",
    "        elapsed = time.perf_counter() - t0\n",
    "        name = func.__name__\n",
    "        arg_lst = [repr(arg) for arg in args]\n",
    "        arg_lst.extend(f'{k}={v!r}' for k, v in kwargs.items())\n",
    "        arg_str = ', '.join(arg_lst)\n",
    "        print(f'[{elapsed:0.8f}s] {name}({arg_str}) -> {result!r}')\n",
    "        return result\n",
    "    return clocked\n",
    "\n",
    "# this would be another file\n",
    "@clock\n",
    "def snooze(seconds):\n",
    "    time.sleep(seconds)\n",
    "\n",
    "snooze(3)"
   ]
  },
  {
   "cell_type": "markdown",
   "metadata": {},
   "source": [
    "\"This is the typical behavior of a decorator: it replaces the decorated function with a new function that accepts the same arguments and (usually) returns whatever the decorated function was supposed to return, while also doing some extra processing.\"\n",
    "\n",
    "### Decorators in the Standard Library\n",
    "- `@property`, `@classmethod` and `@staticmethod` are build-in decorators\n",
    "- `functools` also has `@cache`, `@lru_cache` and `@singledispatch`, which will be treated here\n",
    "\n",
    "- `@cache` can be applied to painfully slow functions for memoization; `@lru_cache` it its older equivalent from Python <= 3.8, but also has some more functionality like a max_size param which the newer one doesn't have\n",
    "- `@singledispatch`:\n",
    "    - \"dispatch\": determining which implementation of a function to call at runtime, based on certain criteria (usually the type or number of arguments); often associated with method overloading or polymorphism\n",
    "    - \"single dispatch\": choosing the function to execute based on the type of one argument (typically the first one)\n",
    "    - \"generic function\": function that can work with different types of inputs and may have multiple implementations (or specializations) for different types\n",
    "    - `@singledispatch` creates a generic function where different implementations of the function can be registered based on the type of the first argument; allows to write type-specific functions\n",
    "    - used when we want to handle different types of data with different behaviors but keep a single function name\n",
    "\n",
    "### Parameterized Decorators\n",
    "- to pass to a decorator other arguments than the function, make a decorator factory that takes those arguments and returns a decorator, which is then applied to the function to be decorated\n",
    "\n",
    "Simple example without an inner function: registry should only be appended, if `active=True:`"
   ]
  },
  {
   "cell_type": "code",
   "execution_count": 44,
   "metadata": {},
   "outputs": [
    {
     "name": "stdout",
     "output_type": "stream",
     "text": [
      "running register(active=False)->decorate(<function f1 at 0x703e5cdf93a0>)\n",
      "running register(active=True)->decorate(<function f2 at 0x703e5cdf84a0>)\n"
     ]
    }
   ],
   "source": [
    "registry = set()\n",
    "\n",
    "def register(active=True): # register is a decorator factory; it takes an optional kwarg\n",
    "    def decorate(func): # actual decorator without an inner function\n",
    "        print('running register'\n",
    "              f'(active={active})->decorate({func})')\n",
    "        if active:\n",
    "            registry.add(func)\n",
    "        else:\n",
    "            registry.discard(func)\n",
    "\n",
    "        return func\n",
    "    return decorate # our decorator factory returns the decorator `decorate`\n",
    "\n",
    "@register(active=False) # the `@register` factory must be invoked as a function, with the desired parameters\n",
    "def f1():\n",
    "    print('running f1()')\n",
    "\n",
    "@register() # if no parameters are passed, `register` must still be called as a function\n",
    "def f2():\n",
    "    print('running f2()')\n",
    "\n",
    "def f3():\n",
    "    print('running f3()')"
   ]
  },
  {
   "cell_type": "code",
   "execution_count": 45,
   "metadata": {},
   "outputs": [
    {
     "data": {
      "text/plain": [
       "{<function __main__.f2()>}"
      ]
     },
     "execution_count": 45,
     "metadata": {},
     "output_type": "execute_result"
    }
   ],
   "source": [
    "# only f2 function appears in the registry\n",
    "registry"
   ]
  },
  {
   "cell_type": "markdown",
   "metadata": {},
   "source": [
    "Without the decorator syntax, using `register` as a regular function, the syntax needed to decorate a function `f` would be `register()(f)` to add `f` to the registry, or `register(active=False)(f)` to not add it.\n",
    "\n",
    "This is a bit similar to how joblib is used within scikit-learn: `Parallel(n_jobs=self.n_jobs)(delayed(func)())`\n",
    "\n",
    "Realistic example with an inner function:"
   ]
  },
  {
   "cell_type": "code",
   "execution_count": 48,
   "metadata": {},
   "outputs": [
    {
     "name": "stdout",
     "output_type": "stream",
     "text": [
      "[1.00009542s] snooze(1) -> None\n",
      "[1.00010351s] snooze(1) -> None\n",
      "[1.00008300s] snooze(1) -> None\n"
     ]
    }
   ],
   "source": [
    "import time\n",
    "\n",
    "DEFAULT_FMT = '[{elapsed:0.8f}s] {name}({args}) -> {result}'\n",
    "\n",
    "def clock(fmt=DEFAULT_FMT): # parametrized factory for decorator function (`fmt` stands for \"format\")\n",
    "    def decorate(func): \n",
    "        def clocked(*_args): # unpacks args from decorated functions\n",
    "            t0 = time.perf_counter()\n",
    "            _result = func(*_args) # unpacks args from decorated functions (`seconds` in the case of `snooze()`)\n",
    "            elapsed = time.perf_counter() - t0\n",
    "            name = func.__name__\n",
    "            args = ', '.join(repr(arg) for arg in _args)\n",
    "            result = repr(_result)\n",
    "            print(fmt.format(**locals())) # using **locals() to allow any local variable of `clocked` to be referenced in the `fmt`\n",
    "            return _result # clocked will replace the decorated function, so it should return whatever that function returns\n",
    "        return clocked\n",
    "    return decorate\n",
    "\n",
    "if __name__ == '__main__':\n",
    "\n",
    "    @clock() # will use default argument for `fmt`, since called without argument\n",
    "    def snooze(seconds):\n",
    "        time.sleep(seconds)\n",
    "\n",
    "    for i in range(3):\n",
    "        snooze(1)"
   ]
  },
  {
   "cell_type": "markdown",
   "metadata": {},
   "source": [
    "Alternatively, this could be implemented class based using the `__call__` method:"
   ]
  },
  {
   "cell_type": "code",
   "execution_count": 55,
   "metadata": {},
   "outputs": [
    {
     "name": "stdout",
     "output_type": "stream",
     "text": [
      "[1.00009751s] snooze(1) -> None\n",
      "[1.00009081s] snooze(1) -> None\n",
      "[1.00009727s] snooze(1) -> None\n"
     ]
    }
   ],
   "source": [
    "import time\n",
    "\n",
    "DEFAULT_FMT = '[{elapsed:0.8f}s] {name}({args}) -> {result}'\n",
    "\n",
    "class Clock:\n",
    "\n",
    "    def __init__(self, fmt=DEFAULT_FMT):\n",
    "        self.fmt = fmt\n",
    "\n",
    "    def __call__(self, func): # instance becomes callable; when invoked, the instance replaces the decorated function with `clocked`\n",
    "        def clocked(*_args):\n",
    "            t0 = time.perf_counter()\n",
    "            _result = func(*_args) # `clocked` wraps the decorated function\n",
    "            elapsed = time.perf_counter() - t0\n",
    "            name = func.__name__\n",
    "            args = ', '.join(repr(arg) for arg in _args)\n",
    "            result = repr(_result)\n",
    "            print(self.fmt.format(**locals()))\n",
    "            return _result\n",
    "        return clocked\n",
    "\n",
    "clock = Clock()\n",
    "\n",
    "@clock\n",
    "def snooze(seconds):\n",
    "    time.sleep(seconds)\n",
    "\n",
    "for i in range(3):\n",
    "    snooze(1)"
   ]
  }
 ],
 "metadata": {
  "kernelspec": {
   "display_name": "fluent_python",
   "language": "python",
   "name": "python3"
  },
  "language_info": {
   "codemirror_mode": {
    "name": "ipython",
    "version": 3
   },
   "file_extension": ".py",
   "mimetype": "text/x-python",
   "name": "python",
   "nbconvert_exporter": "python",
   "pygments_lexer": "ipython3",
   "version": "3.12.2"
  }
 },
 "nbformat": 4,
 "nbformat_minor": 2
}
