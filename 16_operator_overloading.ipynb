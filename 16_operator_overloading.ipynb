{
 "cells": [
  {
   "cell_type": "markdown",
   "metadata": {},
   "source": [
    "# 16 Operator Overloading\n",
    "Some notes, observations and questions along chapter 16.\n",
    "\n",
    "- operator overloading allows user-defined objects to interoperate with infix operators such as `+` and `|`, or unary operators like `-` and `~`\n",
    "- function invocation (`()`), attribute access (`.`), and item access/slicing (`[]`) are also operators that could be overloaded, but it's much more common with infix operators\n",
    "\n",
    "- as a safety measure, \n",
    "\n",
    "    - Python doesn't allow us to overload `is`, `and`, `or` and `not`\n",
    "    - we cannot create new operators, only overload the existing ones\n",
    "    - we cannot change the meaning of operators for build-in types\n",
    "\n",
    "### Unary Operators\n",
    "- `-`, implemented by `__neg__`\n",
    "- `+`, implemented by `__pos__`\n",
    "- `~`, implemented by `__invert__`\n",
    "    - bitwise not, or bitwise inverse of an integer, defined as `~x == -(x+1)`. If $x$ is $2$ then `~x == -3`\n",
    "- `abs()`, implemented by `__abs__`\n",
    "\n",
    "To code this, we take the corresponding special method that only takes `self` as an argument, and stick to the rule of always returning a new object: meaning we do not modify the receiver (self), but create and return a new instance of a suitable type."
   ]
  },
  {
   "cell_type": "code",
   "execution_count": null,
   "metadata": {},
   "outputs": [],
   "source": [
    "from array import array\n",
    "import math\n",
    "\n",
    "class Vector:\n",
    "    typecode = 'd'\n",
    "\n",
    "    def __init__(self, components):\n",
    "        self._components = array(self.typecode, components)\n",
    "\n",
    "    def __iter__(self): # so __neg__ can iterate over self\n",
    "        return iter(self._components)\n",
    "    \n",
    "    def __abs__(self):\n",
    "        return math.hypot(*self)\n",
    "\n",
    "    def __neg__(self):\n",
    "        return Vector(-x for x in self)\n",
    "\n",
    "    def __pos__(self): # we define the object as mutable, so we return a new object of the same type; \n",
    "        # we could just return the object, if it was immutable\n",
    "        return Vector(self)"
   ]
  },
  {
   "cell_type": "markdown",
   "metadata": {},
   "source": [
    "### Overloading + for Vector Addition\n",
    "- we want to use `__add__` in a different way as usual: it should not concatenate two vectors, but instead add up the entries element-wise:"
   ]
  },
  {
   "cell_type": "code",
   "execution_count": null,
   "metadata": {},
   "outputs": [],
   "source": [
    "def __add__(self, other):\n",
    "        # `pairs` is a generator that produces tuples (a, b), where a is from self, and b is from other; if\n",
    "        # self and other have different lengths, `fillvalue` fills the missing values for the shortest with 0s\n",
    "        pairs = itertools.zip_longest(self, other, fillvalue=0.0)\n",
    "        return Vector(a + b for a, b in pairs) # __add__ returns a new Vector instance, and does not change self or other"
   ]
  },
  {
   "cell_type": "code",
   "execution_count": null,
   "metadata": {},
   "outputs": [],
   "source": [
    "def __radd__(self, other):\n",
    "        # added to facilitate mixed type additions, where our Vector() object is on the right side\n",
    "        return self + other # just delegates to __add__"
   ]
  },
  {
   "cell_type": "markdown",
   "metadata": {},
   "source": [
    "- however, this only works for commutative operations\n",
    "- concatenation of two list like objects for instance, would not be commutative"
   ]
  },
  {
   "cell_type": "code",
   "execution_count": null,
   "metadata": {},
   "outputs": [],
   "source": [
    "# another way to archive the same:\n",
    "\n",
    "def __add__(self, other):\n",
    "        pairs = itertools.zip_longest(self, other, fillvalue=0.0)\n",
    "        return Vector(a + b for a, b in pairs)\n",
    "\n",
    "    __radd__ = __add__"
   ]
  },
  {
   "cell_type": "markdown",
   "metadata": {},
   "source": [
    "- we would get errors\n",
    "\n",
    "    - if we tried to add a non-iterative object: `TypeError: zip_longest argument #2 must support iteration`\n",
    "\n",
    "    - or if we add an object, that doesn't implement `__add__`: `TypeError: unsupported operand type(s) for +: 'float' and 'str'`\n",
    "\n",
    "- because these `TypeErrors` are not very clear (and because they depend on the implementation of the other object), we should better define:"
   ]
  },
  {
   "cell_type": "code",
   "execution_count": null,
   "metadata": {},
   "outputs": [],
   "source": [
    "    def __add__(self, other):\n",
    "        try:\n",
    "            pairs = itertools.zip_longest(self, other, fillvalue=0.0)\n",
    "            return Vector(a + b for a, b in pairs)\n",
    "        except TypeError:\n",
    "            return NotImplemented # to return a special type (not an error message), that allows the \n",
    "                                  # interpreter to try again by swapping the operands and calling the reverse \n",
    "                                  # special method for that operator\n",
    "        \n",
    "    def __radd__(self, other):\n",
    "        return self + other"
   ]
  },
  {
   "cell_type": "markdown",
   "metadata": {},
   "source": [
    "So, summing up what I understand between the lines:\n",
    "\n",
    "Operator overloading means over-riding the functionality of a method that's inherited from a base class. The operator will then perform the operation we've defined instead of any default behavior.\n",
    "\n",
    "- It does not meant there are two functionalities at play at the same time!\n",
    "\n",
    "But then,what's the difference between method over riding and operator overloading?\n",
    "\n",
    "- It seems operator overloading is just a special case of method over riding."
   ]
  },
  {
   "cell_type": "markdown",
   "metadata": {},
   "source": [
    "### Overloading * for Scalar Multiplication\n"
   ]
  },
  {
   "cell_type": "code",
   "execution_count": 15,
   "metadata": {},
   "outputs": [],
   "source": [
    "    # inside the Vector class\n",
    "\n",
    "    def __mul__(self, scalar):\n",
    "        return Vector(n * scalar for n in self)\n",
    "\n",
    "    def __rmul__(self, scalar):\n",
    "        return self * scalar"
   ]
  },
  {
   "cell_type": "code",
   "execution_count": 16,
   "metadata": {},
   "outputs": [],
   "source": [
    "    # in order to take care of multiplying with unsupported types we better add a way to catch the TypeErrors\n",
    "    \n",
    "    def __mul__(self, scalar):\n",
    "            try:\n",
    "                factor = float(scalar)\n",
    "            except TypeError:\n",
    "                return NotImplemented\n",
    "            return Vector(n * factor for n in self)\n",
    "\n",
    "    def __rmul__(self, scalar):\n",
    "        return self * scalar"
   ]
  },
  {
   "cell_type": "markdown",
   "metadata": {},
   "source": [
    "### Using @ as an Infix Operator"
   ]
  },
  {
   "cell_type": "code",
   "execution_count": null,
   "metadata": {},
   "outputs": [],
   "source": [
    "    def __matmul__(self, other):\n",
    "        if (isinstance(other, abc.Sized) and isinstance(other, abc.Iterable)): # goose typing with `isinstance()`\n",
    "            if len(self) == len(other):\n",
    "                return sum(a * b for a, b in zip(self, other)) # application of sum, zip, and generator expression\n",
    "            else:\n",
    "                raise ValueError('@ requires vectors of equal length.')\n",
    "        else:\n",
    "            return NotImplemented\n",
    "\n",
    "    def __rmatmul__(self, other):\n",
    "        return self @ other"
   ]
  },
  {
   "cell_type": "markdown",
   "metadata": {},
   "source": [
    "### Rich Comparison Operators\n",
    "- these are `==`, `!=`, `>`, `<`,` >=`, and `<=`\n",
    "- their handling by the interpreter is similar to above but differs in two aspects\n",
    "    - 1. same set of methods is used in forward and reverse operator calls\n",
    "        - `==` invokes `__eq__` and the reverse is `__eq__` with the arguments swapped\n",
    "        - `>=` invokes `__gt__` and the reverse is `__lt__` with the arguments swapped\n",
    "    - 2. if in `==` or `!=` the reverse argument is missing, Python interpreter compares the object id's\n",
    "\n",
    "### Augmented Assignment Operators\n",
    "- inplace assingment; for instance  `+=` and `*=`\n",
    "- for immutable classes `+=` works by calling `__add__` and the object is a new object (different id):"
   ]
  },
  {
   "cell_type": "code",
   "execution_count": 21,
   "metadata": {},
   "outputs": [
    {
     "data": {
      "text/plain": [
       "128697690460272"
      ]
     },
     "execution_count": 21,
     "metadata": {},
     "output_type": "execute_result"
    }
   ],
   "source": [
    "v1 = \"some string\"\n",
    "v1_alias = v1\n",
    "id(v1)"
   ]
  },
  {
   "cell_type": "code",
   "execution_count": 22,
   "metadata": {},
   "outputs": [
    {
     "data": {
      "text/plain": [
       "'some string and another string'"
      ]
     },
     "execution_count": 22,
     "metadata": {},
     "output_type": "execute_result"
    }
   ],
   "source": [
    "v1 += \" and another string\"\n",
    "v1"
   ]
  },
  {
   "cell_type": "code",
   "execution_count": 23,
   "metadata": {},
   "outputs": [
    {
     "data": {
      "text/plain": [
       "128697688519936"
      ]
     },
     "execution_count": 23,
     "metadata": {},
     "output_type": "execute_result"
    }
   ],
   "source": [
    "id(v1)"
   ]
  },
  {
   "cell_type": "markdown",
   "metadata": {},
   "source": [
    "- however, if we implement `__iadd__` we are expected to change the object (which makes it mutable)\n",
    "\n",
    "    - if we really want that, `__iadd__` needs to be implemented by returning (an updated) self"
   ]
  },
  {
   "cell_type": "markdown",
   "metadata": {},
   "source": []
  }
 ],
 "metadata": {
  "kernelspec": {
   "display_name": "fluent_python",
   "language": "python",
   "name": "python3"
  },
  "language_info": {
   "codemirror_mode": {
    "name": "ipython",
    "version": 3
   },
   "file_extension": ".py",
   "mimetype": "text/x-python",
   "name": "python",
   "nbconvert_exporter": "python",
   "pygments_lexer": "ipython3",
   "version": "3.12.2"
  }
 },
 "nbformat": 4,
 "nbformat_minor": 2
}
