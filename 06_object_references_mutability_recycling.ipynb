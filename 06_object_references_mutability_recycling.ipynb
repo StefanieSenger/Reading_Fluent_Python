{
 "cells": [
  {
   "cell_type": "markdown",
   "metadata": {},
   "source": [
    "# 06 Object References, Mutability, Recycling\n",
    "Some notes, observations and questions along chapter 06.\n",
    "\n",
    "- every Python object has an identity, a type, and a value\n",
    "- only the value of an object may change over time\n",
    "- remark: if I change the type of an object, it does get re-created as a new object (and thus gets a new identity and value, too)\n",
    "\n",
    "### Variables Are Not Boxes\n",
    "- but rather sticky notes to boxes (references)"
   ]
  },
  {
   "cell_type": "code",
   "execution_count": 1,
   "metadata": {},
   "outputs": [
    {
     "data": {
      "text/plain": [
       "[1, 2, 3, 4]"
      ]
     },
     "execution_count": 1,
     "metadata": {},
     "output_type": "execute_result"
    }
   ],
   "source": [
    "a = [1, 2, 3]\n",
    "b = a\n",
    "a.append(4)\n",
    "b  "
   ]
  },
  {
   "cell_type": "markdown",
   "metadata": {},
   "source": [
    "`dir()` provides a list of names available in the current namespace.\n",
    "Without any argument it refers to the module. \n",
    "With an argument, it would return a list of local namespaces (meaning local to the object)."
   ]
  },
  {
   "cell_type": "code",
   "execution_count": 3,
   "metadata": {},
   "outputs": [
    {
     "name": "stdout",
     "output_type": "stream",
     "text": [
      "Gizmo id: 138667950609696\n"
     ]
    },
    {
     "data": {
      "text/plain": [
       "['Gizmo',\n",
       " 'In',\n",
       " 'Out',\n",
       " '_',\n",
       " '_1',\n",
       " '_2',\n",
       " '__',\n",
       " '___',\n",
       " '__builtin__',\n",
       " '__builtins__',\n",
       " '__doc__',\n",
       " '__loader__',\n",
       " '__name__',\n",
       " '__package__',\n",
       " '__spec__',\n",
       " '__vsc_ipynb_file__',\n",
       " '_dh',\n",
       " '_i',\n",
       " '_i1',\n",
       " '_i2',\n",
       " '_i3',\n",
       " '_ih',\n",
       " '_ii',\n",
       " '_iii',\n",
       " '_oh',\n",
       " 'a',\n",
       " 'b',\n",
       " 'exit',\n",
       " 'get_ipython',\n",
       " 'open',\n",
       " 'quit',\n",
       " 'x']"
      ]
     },
     "execution_count": 3,
     "metadata": {},
     "output_type": "execute_result"
    }
   ],
   "source": [
    "class Gizmo:\n",
    "    def __init__(self):\n",
    "        print(f'Gizmo id: {id(self)}')\n",
    "\n",
    "x = Gizmo()\n",
    "\n",
    "dir()"
   ]
  },
  {
   "cell_type": "markdown",
   "metadata": {},
   "source": [
    "### Identity, Equality, and Aliases\n",
    "- objects with the same ID are the same\n",
    "- objects with different IDs can still be alike"
   ]
  },
  {
   "cell_type": "code",
   "execution_count": 1,
   "metadata": {},
   "outputs": [
    {
     "data": {
      "text/plain": [
       "True"
      ]
     },
     "execution_count": 1,
     "metadata": {},
     "output_type": "execute_result"
    }
   ],
   "source": [
    "charles = {'name': 'Charles L. Dodgson', 'born': 1832}\n",
    "lewis = charles\n",
    "lewis is charles"
   ]
  },
  {
   "cell_type": "code",
   "execution_count": 2,
   "metadata": {},
   "outputs": [
    {
     "data": {
      "text/plain": [
       "(132560207303872, 132560207303872)"
      ]
     },
     "execution_count": 2,
     "metadata": {},
     "output_type": "execute_result"
    }
   ],
   "source": [
    "id(charles), id(lewis)"
   ]
  },
  {
   "cell_type": "code",
   "execution_count": 4,
   "metadata": {},
   "outputs": [
    {
     "data": {
      "text/plain": [
       "True"
      ]
     },
     "execution_count": 4,
     "metadata": {},
     "output_type": "execute_result"
    }
   ],
   "source": [
    "alex = {'name': 'Charles L. Dodgson', 'born': 1832}\n",
    "alex == charles"
   ]
  },
  {
   "cell_type": "code",
   "execution_count": 5,
   "metadata": {},
   "outputs": [
    {
     "data": {
      "text/plain": [
       "False"
      ]
     },
     "execution_count": 5,
     "metadata": {},
     "output_type": "execute_result"
    }
   ],
   "source": [
    "alex is charles"
   ]
  },
  {
   "cell_type": "markdown",
   "metadata": {},
   "source": [
    "Python Language Reference: \"An object’s identity never changes once it has been created; you may think of it as the object’s address in memory. The is operator compares the identity of two objects; the id() function returns an integer representing its identity.\"\n",
    "\n",
    "### Choosing Between == and is\n",
    "- `is` is used to compare something with \n",
    "    - a singleton (class can only have one instance) like `None` or with \n",
    "    - a sentinel (special, unique object used to indicate a specific condition or as a placeholder. It’s used to differentiate between different states or absence of a value.)\n",
    "        - Sentinel objects are most useful where boundary conditions are complex.\n",
    "- computing `is` is as simple as comparing two integer IDs"
   ]
  },
  {
   "cell_type": "code",
   "execution_count": 6,
   "metadata": {},
   "outputs": [
    {
     "ename": "SyntaxError",
     "evalue": "invalid syntax (2484180808.py, line 5)",
     "output_type": "error",
     "traceback": [
      "\u001b[0;36m  Cell \u001b[0;32mIn[6], line 5\u001b[0;36m\u001b[0m\n\u001b[0;31m    def traverse(...):\u001b[0m\n\u001b[0m                 ^\u001b[0m\n\u001b[0;31mSyntaxError\u001b[0m\u001b[0;31m:\u001b[0m invalid syntax\n"
     ]
    }
   ],
   "source": [
    "# example sentinel:\n",
    "\n",
    "END_OF_DATA = object()\n",
    "# ... many lines\n",
    "def traverse(...):\n",
    "    # ... more lines\n",
    "    if node is END_OF_DATA:\n",
    "        return\n",
    "    # etc."
   ]
  },
  {
   "cell_type": "markdown",
   "metadata": {},
   "source": [
    "- `==` is used to determaine alike-ness between objects\n",
    "- implementation differs\n",
    "- a == b is syntactic sugar for a.__eq__(b)\n",
    "- \"The __eq__ method inherited from object compares object IDs, so it produces the same result as is. But most built-in types override __eq__ with more meaningful implementations that actually take into account the values of the object attributes.\"\n",
    "\n",
    "### The Relative Immutability of Tuples\n",
    "- \"Tuples, like most Python collections—lists, dicts, sets, etc.—are containers: they hold references to objects.2 If the referenced items are mutable, they may change even if the tuple itself does not.\"\n",
    "\n",
    "### Copies Are Shallow by Default\n",
    "- shallow copy: outermost container is duplicated, but the copy is filled with references to the same items held by the original container; but if these contained objects are mutable, we most likely prefer deep copies"
   ]
  },
  {
   "cell_type": "code",
   "execution_count": 8,
   "metadata": {},
   "outputs": [
    {
     "name": "stdout",
     "output_type": "stream",
     "text": [
      "True\n",
      "False\n"
     ]
    }
   ],
   "source": [
    "# shallow copy:\n",
    "l1 = [3, [55, 44], (7, 8, 9)]\n",
    "l2 = list(l1) # same: copy.copy(l1)\n",
    "print(l2 == l1)\n",
    "print(l2 is l1)"
   ]
  },
  {
   "cell_type": "markdown",
   "metadata": {},
   "source": [
    "### Function Parameters as References\n",
    "- passing parameters into functions is \"call by sharing\" (or \"call by object reference\"), meaning when passing arguments to a function in Python, we're passing references to the objects, not the actual objects themselves\n",
    "- the parameters inside the function become aliases of the actual arguments\n",
    "- a function may change any mutable object passed as a parameter, but it cannot change the identity of those objects\n",
    "    - up until now I had regarded params as copies, but they are not!!!"
   ]
  },
  {
   "cell_type": "code",
   "execution_count": 11,
   "metadata": {},
   "outputs": [
    {
     "name": "stdout",
     "output_type": "stream",
     "text": [
      "3\n"
     ]
    },
    {
     "data": {
      "text/plain": [
       "(1, 2)"
      ]
     },
     "execution_count": 11,
     "metadata": {},
     "output_type": "execute_result"
    }
   ],
   "source": [
    "def f(a, b):\n",
    "    a += b\n",
    "    return a\n",
    "\n",
    "x = 1\n",
    "y = 2\n",
    "print(f(x, y))\n",
    "# number x is unchanged:\n",
    "x, y"
   ]
  },
  {
   "cell_type": "code",
   "execution_count": 12,
   "metadata": {},
   "outputs": [
    {
     "name": "stdout",
     "output_type": "stream",
     "text": [
      "[1, 2, 3, 4]\n"
     ]
    },
    {
     "data": {
      "text/plain": [
       "([1, 2, 3, 4], [3, 4])"
      ]
     },
     "execution_count": 12,
     "metadata": {},
     "output_type": "execute_result"
    }
   ],
   "source": [
    "a = [1, 2]\n",
    "b = [3, 4]\n",
    "print(f(a, b))\n",
    "# list a is changed:\n",
    "a, b"
   ]
  },
  {
   "cell_type": "code",
   "execution_count": 13,
   "metadata": {},
   "outputs": [
    {
     "name": "stdout",
     "output_type": "stream",
     "text": [
      "(10, 20, 30, 40)\n"
     ]
    },
    {
     "data": {
      "text/plain": [
       "((10, 20), (30, 40))"
      ]
     },
     "execution_count": 13,
     "metadata": {},
     "output_type": "execute_result"
    }
   ],
   "source": [
    "t = (10, 20)\n",
    "u = (30, 40)\n",
    "print(f(t, u))\n",
    "# tuple t is unchanged:\n",
    "t, u"
   ]
  },
  {
   "cell_type": "markdown",
   "metadata": {},
   "source": [
    "Integers and tuples a immutable. When we perform a += b with integers or tuples, Python creates a new integer or tuple that is the concatenation of a and b.\n",
    "\n",
    "Lists on the other hand are mutable in Python. When we perform a += b, it modifies the list a in place by appending the elements of b to a.\n",
    "\n",
    "This is the same as everywhere else: If we modify a passed object through one of these param aliases, the change will be reflected outside the function because the function operates on the same object.\n",
    "\n",
    "#### Mutable Types as Parameter Defaults: Bad Idea\n",
    "We should avoid mutable objects as default values for parameters.\n",
    "\n",
    "If a default value is a mutable object, and we change it, the change will affect every future call of the function. The same object is used over when the function is called the second time with default arguments. This type of bug is difficult to discover.\n",
    "\n",
    "It is better to use `None` as a default and then have a check to see if it is still None (check first call) and only then do the assignment of the actual type. This assured the same behaviour each time the function is run.\n",
    "\n",
    "The Hitchhiker's Guide to Python also has [a comprehensible example on mutable default arguments](https://github.com/StefanieSenger/Playground/blob/main/mutable_default_arguments.py).\n",
    "\n",
    "#### Defensive Programming with Mutable Parameters\n",
    "When coding a function that receives a mutable parameter, we should carefully consider whether the caller expects the argument passed to be changed, for instance receiving a dict: If our function modifies it while processing: should this side effect be visible outside of the function or not?\n",
    "\n",
    "If object should be modified: comment on it (not do it implicitly), if object should not be modified: make a copy (copy.copy(obj) or copy.deepcopy(obj)).\n",
    "\n",
    "### del and Garbage Collection\n",
    "- `del` deletes references to objects, not the objects themselves\n",
    "- nothing is explicitly deleted, only forgotten\n",
    "- garbage collector may discard an object, if a del statement results in the object count going down to 0"
   ]
  },
  {
   "cell_type": "code",
   "execution_count": 14,
   "metadata": {},
   "outputs": [
    {
     "name": "stdout",
     "output_type": "stream",
     "text": [
      "[1, 2]\n"
     ]
    }
   ],
   "source": [
    "a = [1, 2] # binding a to a list object\n",
    "b = a  # binding b to the same lift object\n",
    "del a # delete reference of a\n",
    "print(b) # b's reference to the object is still there\n",
    "b = [3] # this re-binds b to another list object, thus the reference tro [1, 2] can now be garbage collected"
   ]
  },
  {
   "cell_type": "markdown",
   "metadata": {},
   "source": [
    "We should avoid using the `__del__` special method in our code. The Python interpreter calls it if it needs to and modifying it can lead to issues.\n",
    "\n",
    "In CPython, each object keeps count of how often it was referenced.\n",
    "\n",
    "When `refcount` reaches 0, or CPython finds circular references, the interpreter calls the `__del__` special method and the object is forgotten.\n",
    "\n",
    "We can use `weakreference`, if we don't want to increase the reference count. \"Weak references are useful in caching applications because you don’t want the cached objects to be kept alive just because they are referenced by the cache.\" Or: a class that keeps track of all its current instances.\n",
    "\n",
    "### Tricks Python Plays with Immutables\n",
    "CPython uses an optimization technique called `interning` for small integers that are often used (`Beyond the Basis Stuff with Python` also talkes about it) and some other mutable objects, that will get the same ID, even if they are created independently:"
   ]
  },
  {
   "cell_type": "code",
   "execution_count": 15,
   "metadata": {},
   "outputs": [
    {
     "data": {
      "text/plain": [
       "True"
      ]
     },
     "execution_count": 15,
     "metadata": {},
     "output_type": "execute_result"
    }
   ],
   "source": [
    "s1 = 'ABC'\n",
    "s2 = 'ABC'\n",
    "s2 is s1"
   ]
  },
  {
   "cell_type": "markdown",
   "metadata": {},
   "source": [
    "Which immutable types this refers to is undocumented and not be be relied on. It is only an internal optimization technique used by the current version of CPython interpreter to have some often used immutables at memory before the programme starts running."
   ]
  },
  {
   "cell_type": "code",
   "execution_count": null,
   "metadata": {},
   "outputs": [],
   "source": []
  }
 ],
 "metadata": {
  "kernelspec": {
   "display_name": "fluent_python",
   "language": "python",
   "name": "python3"
  },
  "language_info": {
   "codemirror_mode": {
    "name": "ipython",
    "version": 3
   },
   "file_extension": ".py",
   "mimetype": "text/x-python",
   "name": "python",
   "nbconvert_exporter": "python",
   "pygments_lexer": "ipython3",
   "version": "3.12.2"
  }
 },
 "nbformat": 4,
 "nbformat_minor": 2
}
