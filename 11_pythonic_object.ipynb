{
 "cells": [
  {
   "cell_type": "markdown",
   "metadata": {},
   "source": [
    "# 11 A Pythonic Object\n",
    "Some notes, observations and questions along chapter 11.\n",
    "\n",
    "### Object Representations\n",
    "- `repr()` - Return a string representing the object as the developer wants to see it. It’s what you get when the Python console or a debugger shows an object.\n",
    "\n",
    "- `str()` - Return a string representing the object as the user wants to see it. It’s what you get when you print() an object.\n",
    "\n",
    "### Vector Class Redux\n",
    "This is an example class that we will use in the next chapters to investigate special methods:"
   ]
  },
  {
   "cell_type": "code",
   "execution_count": 2,
   "metadata": {},
   "outputs": [],
   "source": [
    "from array import array\n",
    "import math\n",
    "\n",
    "\n",
    "class Vector2d:\n",
    "    typecode = 'd'\n",
    "\n",
    "    def __init__(self, x, y):\n",
    "        self.x = float(x)\n",
    "        self.y = float(y)\n",
    "\n",
    "    def __iter__(self):\n",
    "        return (i for i in (self.x, self.y))\n",
    "\n",
    "    def __repr__(self):\n",
    "        class_name = type(self).__name__\n",
    "        return '{}({!r}, {!r})'.format(class_name, *self)\n",
    "\n",
    "    def __str__(self):\n",
    "        return str(tuple(self))\n",
    "\n",
    "    def __bytes__(self):\n",
    "        return (bytes([ord(self.typecode)]) +       # To generate bytes, we convert the typecode to bytes and concatenate…\n",
    "                bytes(array(self.typecode, self)))  # …bytes converted from an array built by iterating over the instance.\n",
    "\n",
    "    def __eq__(self, other):\n",
    "        return tuple(self) == tuple(other)          # to quickly compare all components, build tuples out of the operands\n",
    "\n",
    "    def __abs__(self):\n",
    "        return math.hypot(self.x, self.y)\n",
    "\n",
    "    def __bool__(self):\n",
    "        return bool(abs(self))"
   ]
  },
  {
   "cell_type": "markdown",
   "metadata": {},
   "source": [
    "It should work like this:"
   ]
  },
  {
   "cell_type": "code",
   "execution_count": 3,
   "metadata": {},
   "outputs": [
    {
     "name": "stdout",
     "output_type": "stream",
     "text": [
      "3.0 4.0\n"
     ]
    }
   ],
   "source": [
    "v1 = Vector2d(3, 4)\n",
    "print(v1.x, v1.y)"
   ]
  },
  {
   "cell_type": "code",
   "execution_count": 7,
   "metadata": {},
   "outputs": [
    {
     "data": {
      "text/plain": [
       "Vector2d(3.0, 4.0)"
      ]
     },
     "execution_count": 7,
     "metadata": {},
     "output_type": "execute_result"
    }
   ],
   "source": [
    "v1"
   ]
  },
  {
   "cell_type": "code",
   "execution_count": 9,
   "metadata": {},
   "outputs": [
    {
     "name": "stdout",
     "output_type": "stream",
     "text": [
      "(3.0, 4.0)\n"
     ]
    }
   ],
   "source": [
    "print(v1)"
   ]
  },
  {
   "cell_type": "code",
   "execution_count": 4,
   "metadata": {},
   "outputs": [
    {
     "data": {
      "text/plain": [
       "(3.0, 4.0)"
      ]
     },
     "execution_count": 4,
     "metadata": {},
     "output_type": "execute_result"
    }
   ],
   "source": [
    "# __iter__ makes unpacking work:\n",
    "x, y = v1\n",
    "x, y"
   ]
  },
  {
   "cell_type": "code",
   "execution_count": 8,
   "metadata": {},
   "outputs": [
    {
     "data": {
      "text/plain": [
       "b'd\\x00\\x00\\x00\\x00\\x00\\x00\\x08@\\x00\\x00\\x00\\x00\\x00\\x00\\x10@'"
      ]
     },
     "execution_count": 8,
     "metadata": {},
     "output_type": "execute_result"
    }
   ],
   "source": [
    "octets = bytes(v1)\n",
    "octets\n",
    "# not really sure why we build it like this / why it needs to look like this"
   ]
  },
  {
   "cell_type": "code",
   "execution_count": 12,
   "metadata": {},
   "outputs": [
    {
     "data": {
      "text/plain": [
       "True"
      ]
     },
     "execution_count": 12,
     "metadata": {},
     "output_type": "execute_result"
    }
   ],
   "source": [
    "# Using eval here shows that the repr of a Vector2d is a faithful representation of its constructor call:\n",
    "v1_clone = eval(repr(v1))\n",
    "v1 == v1_clone # possible because we have implemented `__eq__`"
   ]
  },
  {
   "cell_type": "code",
   "execution_count": 10,
   "metadata": {},
   "outputs": [
    {
     "data": {
      "text/plain": [
       "5.0"
      ]
     },
     "execution_count": 10,
     "metadata": {},
     "output_type": "execute_result"
    }
   ],
   "source": [
    "abs(v1)"
   ]
  },
  {
   "cell_type": "code",
   "execution_count": 11,
   "metadata": {},
   "outputs": [
    {
     "data": {
      "text/plain": [
       "(True, False)"
      ]
     },
     "execution_count": 11,
     "metadata": {},
     "output_type": "execute_result"
    }
   ],
   "source": [
    "bool(v1), bool(Vector2d(0, 0))"
   ]
  },
  {
   "cell_type": "markdown",
   "metadata": {},
   "source": [
    "### An Alternative Constructor\n",
    "- we can export Vector2d as bytes, so here we want to re-construct the object from the bytes\n",
    "- we could do this in a `classmethod` `frombytes()`:"
   ]
  },
  {
   "cell_type": "code",
   "execution_count": 13,
   "metadata": {},
   "outputs": [],
   "source": [
    "    @classmethod\n",
    "    def frombytes(cls, octets):\n",
    "        typecode = chr(octets[0])\n",
    "        memv = memoryview(octets[1:]).cast(typecode)\n",
    "        return cls(*memv)"
   ]
  },
  {
   "cell_type": "markdown",
   "metadata": {},
   "source": [
    "### classmethod versus staticmethod\n",
    "- `classmethod` changes the way the method is called, so it receives the class itself as the first argument, instead of an instance\n",
    "    - most commonly used for alternative constructors\n",
    "- `staticmethod` decorator changes a method so that it receives no special first argument\n",
    "    - it defines a function on the level/scope of the module and is only informally connected to the class"
   ]
  },
  {
   "cell_type": "code",
   "execution_count": 26,
   "metadata": {},
   "outputs": [
    {
     "data": {
      "text/plain": [
       "(__main__.Demo,)"
      ]
     },
     "execution_count": 26,
     "metadata": {},
     "output_type": "execute_result"
    }
   ],
   "source": [
    "class Demo:\n",
    "    @classmethod\n",
    "    def klassmeth(*args): # *args packs all the positional arguments, also `cls`\n",
    "        # returns all the positional arguments\n",
    "        return args\n",
    "    \n",
    "    @staticmethod\n",
    "    def statmeth(*args):\n",
    "        # returns all the positional arguments\n",
    "        return args\n",
    "    \n",
    "    def f(): # this would also work without the `self`, because it is there by default\n",
    "        return 1\n",
    "\n",
    "Demo.klassmeth()"
   ]
  },
  {
   "cell_type": "code",
   "execution_count": 15,
   "metadata": {},
   "outputs": [
    {
     "data": {
      "text/plain": [
       "(__main__.Demo, 'spam')"
      ]
     },
     "execution_count": 15,
     "metadata": {},
     "output_type": "execute_result"
    }
   ],
   "source": [
    "# receives the Demo class as the first argument, no matter how we invoke it\n",
    "Demo.klassmeth('spam')"
   ]
  },
  {
   "cell_type": "code",
   "execution_count": 16,
   "metadata": {},
   "outputs": [
    {
     "data": {
      "text/plain": [
       "()"
      ]
     },
     "execution_count": 16,
     "metadata": {},
     "output_type": "execute_result"
    }
   ],
   "source": [
    "Demo.statmeth()"
   ]
  },
  {
   "cell_type": "code",
   "execution_count": 17,
   "metadata": {},
   "outputs": [
    {
     "data": {
      "text/plain": [
       "('spam',)"
      ]
     },
     "execution_count": 17,
     "metadata": {},
     "output_type": "execute_result"
    }
   ],
   "source": [
    "# behaves just like a plain old function\n",
    "Demo.statmeth('spam')"
   ]
  },
  {
   "cell_type": "markdown",
   "metadata": {},
   "source": [
    "### Formatted Displays\n",
    "- uses Format Specification Mini-Language (which takes a while to get used to and is not my focus right now)\n",
    "- implementing our own format method in the `Vector2d` class:"
   ]
  },
  {
   "cell_type": "code",
   "execution_count": 18,
   "metadata": {},
   "outputs": [],
   "source": [
    "    def __format__(self, fmt_spec=''):\n",
    "        # uses the formatting specification on each float component in our vector\n",
    "        components = (format(c, fmt_spec) for c in self)\n",
    "        return '({}, {})'.format(*components) # plug the formatted strings into the format (x,y)"
   ]
  },
  {
   "cell_type": "markdown",
   "metadata": {},
   "source": [
    "Now we want to add a custom formatting code, using `p` because it is used anywhere else (and hence cannot be confused).\n",
    "\n",
    "We want to display the vector in polar coordinates: `<r, θ>`, where `r` is the magnitude and `θ` (theta) is the angle in radians:"
   ]
  },
  {
   "cell_type": "code",
   "execution_count": 20,
   "metadata": {},
   "outputs": [
    {
     "ename": "IndentationError",
     "evalue": "unexpected indent (403098287.py, line 2)",
     "output_type": "error",
     "traceback": [
      "\u001b[0;36m  Cell \u001b[0;32mIn[20], line 2\u001b[0;36m\u001b[0m\n\u001b[0;31m    def angle(self):\u001b[0m\n\u001b[0m    ^\u001b[0m\n\u001b[0;31mIndentationError\u001b[0m\u001b[0;31m:\u001b[0m unexpected indent\n"
     ]
    }
   ],
   "source": [
    "# calculating the angle\n",
    "    def angle(self):\n",
    "            return math.atan2(self.y, self.x)\n",
    "\n",
    "# enhancing the __format__ method to take the formatting code into account:\n",
    "    def __format__(self, fmt_spec=''):\n",
    "        if fmt_spec.endswith('p'):\n",
    "            fmt_spec = fmt_spec[:-1]\n",
    "            coords = (abs(self), self.angle()) # we use `self.__abs__()` and `self.angle()`\n",
    "            outer_fmt = '<{}, {}>'\n",
    "        else:\n",
    "            coords = self\n",
    "            outer_fmt = '({}, {})' # preparing the string for returning\n",
    "        components = (format(c, fmt_spec) for c in coords)\n",
    "        return outer_fmt.format(*components)"
   ]
  },
  {
   "cell_type": "markdown",
   "metadata": {},
   "source": [
    "### A Hashable Vector2d\n",
    "- make our `Vector2d` hashable, so we can build sets of vectors, or use them as dict keys"
   ]
  },
  {
   "cell_type": "code",
   "execution_count": 22,
   "metadata": {},
   "outputs": [
    {
     "ename": "TypeError",
     "evalue": "unhashable type: 'Vector2d'",
     "output_type": "error",
     "traceback": [
      "\u001b[0;31m---------------------------------------------------------------------------\u001b[0m",
      "\u001b[0;31mTypeError\u001b[0m                                 Traceback (most recent call last)",
      "Cell \u001b[0;32mIn[22], line 3\u001b[0m\n\u001b[1;32m      1\u001b[0m \u001b[38;5;66;03m# so far, our vector objects are not hashable:\u001b[39;00m\n\u001b[1;32m      2\u001b[0m v1 \u001b[38;5;241m=\u001b[39m Vector2d(\u001b[38;5;241m3\u001b[39m, \u001b[38;5;241m4\u001b[39m)\n\u001b[0;32m----> 3\u001b[0m \u001b[38;5;28;43mhash\u001b[39;49m\u001b[43m(\u001b[49m\u001b[43mv1\u001b[49m\u001b[43m)\u001b[49m\n",
      "\u001b[0;31mTypeError\u001b[0m: unhashable type: 'Vector2d'"
     ]
    }
   ],
   "source": [
    "# so far, our vector objects are not hashable:\n",
    "v1 = Vector2d(3, 4)\n",
    "hash(v1)"
   ]
  },
  {
   "cell_type": "markdown",
   "metadata": {},
   "source": [
    "- to make them hashable, we must implement `__hash__` and `__eq__` (which we already did) and make them immutable, so that `v1.x = 7` would raise"
   ]
  },
  {
   "cell_type": "code",
   "execution_count": 2,
   "metadata": {},
   "outputs": [],
   "source": [
    "class Vector2d:\n",
    "    typecode = 'd'\n",
    "\n",
    "    def __init__(self, x, y):\n",
    "        self.__x = float(x)\n",
    "        self.__y = float(y)\n",
    "\n",
    "    @property # The @property decorator marks the getter method of a property.\n",
    "    def x(self): # The getter method is named after the public property it exposes: x.\n",
    "        return self.__x\n",
    "\n",
    "    @property\n",
    "    def y(self):\n",
    "        return self.__y\n",
    "\n",
    "    def __iter__(self):\n",
    "        return (i for i in (self.x, self.y))"
   ]
  },
  {
   "cell_type": "markdown",
   "metadata": {},
   "source": [
    "This is an example for read-only properties. We would internally rename the `x` and `y` into `self.__x` and `self.__y` and allow access only through functions `x()` and `y()` that only allow getting, but not setting."
   ]
  },
  {
   "cell_type": "code",
   "execution_count": 3,
   "metadata": {},
   "outputs": [
    {
     "ename": "AttributeError",
     "evalue": "property 'x' of 'Vector2d' object has no setter",
     "output_type": "error",
     "traceback": [
      "\u001b[0;31m---------------------------------------------------------------------------\u001b[0m",
      "\u001b[0;31mAttributeError\u001b[0m                            Traceback (most recent call last)",
      "Cell \u001b[0;32mIn[3], line 3\u001b[0m\n\u001b[1;32m      1\u001b[0m \u001b[38;5;66;03m# we can only get, but not set x and y\u001b[39;00m\n\u001b[1;32m      2\u001b[0m v \u001b[38;5;241m=\u001b[39m Vector2d(\u001b[38;5;241m2\u001b[39m,\u001b[38;5;241m3\u001b[39m)\n\u001b[0;32m----> 3\u001b[0m \u001b[43mv\u001b[49m\u001b[38;5;241;43m.\u001b[39;49m\u001b[43mx\u001b[49m\u001b[38;5;241m=\u001b[39m\u001b[38;5;241m1\u001b[39m\n",
      "\u001b[0;31mAttributeError\u001b[0m: property 'x' of 'Vector2d' object has no setter"
     ]
    }
   ],
   "source": [
    "# we can only get, but not set x and y\n",
    "v = Vector2d(2,3)\n",
    "v.x=1"
   ]
  },
  {
   "cell_type": "markdown",
   "metadata": {},
   "source": [
    "Our Vector2d is now reasonably immutable (which in theory is not strictly necessary, but recommended), so we can define a hash. It is recommended to calculate the hash from the object's components. (Also, ideally we need to take care of `__eq__` to make sure that objects evaluating to equal have the same hashes.)"
   ]
  },
  {
   "cell_type": "code",
   "execution_count": 4,
   "metadata": {},
   "outputs": [],
   "source": [
    "    def __hash__(self):\n",
    "        return hash((self.x, self.y))"
   ]
  },
  {
   "cell_type": "code",
   "execution_count": 5,
   "metadata": {},
   "outputs": [
    {
     "data": {
      "text/plain": [
       "(8587317881251, 8587317881248)"
      ]
     },
     "execution_count": 5,
     "metadata": {},
     "output_type": "execute_result"
    }
   ],
   "source": [
    "v1 = Vector2d(3, 4)\n",
    "v2 = Vector2d(3.1, 4.2)\n",
    "hash(v1), hash(v2)"
   ]
  },
  {
   "cell_type": "markdown",
   "metadata": {},
   "source": [
    "### Supporting Positional Pattern Matching\n",
    "- `__match_args__` class attribute is used to use positional args in pattern matching\n",
    "\n",
    "### Complete Listing of Vector2d\n",
    "- summary of what we have done with Vector2d"
   ]
  },
  {
   "cell_type": "code",
   "execution_count": 10,
   "metadata": {},
   "outputs": [],
   "source": [
    "from array import array\n",
    "import math\n",
    "\n",
    "class Vector2d:\n",
    "    \"\"\"\n",
    "    A two-dimensional vector class\n",
    "\n",
    "        >>> v1 = Vector2d(3, 4)\n",
    "        >>> print(v1.x, v1.y)\n",
    "        3.0 4.0\n",
    "        >>> x, y = v1\n",
    "        >>> x, y\n",
    "        (3.0, 4.0)\n",
    "        >>> v1\n",
    "        Vector2d(3.0, 4.0)\n",
    "        >>> v1_clone = eval(repr(v1))\n",
    "        >>> v1 == v1_clone\n",
    "        True\n",
    "        >>> print(v1)\n",
    "        (3.0, 4.0)\n",
    "            >>> octets = bytes(v1)\n",
    "        >>> octets\n",
    "        b'd\\\\x00\\\\x00\\\\x00\\\\x00\\\\x00\\\\x00\\\\x08@\\\\x00\\\\x00\\\\x00\\\\x00\\\\x00\\\\x00\\\\x10@'\n",
    "        >>> abs(v1)\n",
    "        5.0\n",
    "        >>> bool(v1), bool(Vector2d(0, 0))\n",
    "        (True, False)\n",
    "\n",
    "\n",
    "    Test of ``.frombytes()`` class method:\n",
    "\n",
    "        >>> v1_clone = Vector2d.frombytes(bytes(v1))\n",
    "        >>> v1_clone\n",
    "        Vector2d(3.0, 4.0)\n",
    "        >>> v1 == v1_clone\n",
    "        True\n",
    "\n",
    "\n",
    "    Tests of ``format()`` with Cartesian coordinates:\n",
    "\n",
    "        >>> format(v1)\n",
    "        '(3.0, 4.0)'\n",
    "        >>> format(v1, '.2f')\n",
    "        '(3.00, 4.00)'\n",
    "        >>> format(v1, '.3e')\n",
    "        '(3.000e+00, 4.000e+00)'\n",
    "\n",
    "\n",
    "    Tests of the ``angle`` method::\n",
    "\n",
    "        >>> Vector2d(0, 0).angle()\n",
    "        0.0\n",
    "        >>> Vector2d(1, 0).angle()\n",
    "        0.0\n",
    "        >>> epsilon = 10**-8\n",
    "        >>> abs(Vector2d(0, 1).angle() - math.pi/2) < epsilon\n",
    "        True\n",
    "        >>> abs(Vector2d(1, 1).angle() - math.pi/4) < epsilon\n",
    "        True\n",
    "\n",
    "\n",
    "    Tests of ``format()`` with polar coordinates:\n",
    "\n",
    "        >>> format(Vector2d(1, 1), 'p')  # doctest:+ELLIPSIS\n",
    "        '<1.414213..., 0.785398...>'\n",
    "        >>> format(Vector2d(1, 1), '.3ep')\n",
    "        '<1.414e+00, 7.854e-01>'\n",
    "        >>> format(Vector2d(1, 1), '0.5fp')\n",
    "        '<1.41421, 0.78540>'\n",
    "\n",
    "\n",
    "    Tests of `x` and `y` read-only properties:\n",
    "        >>> v1.x, v1.y\n",
    "        (3.0, 4.0)\n",
    "        >>> v1.x = 123\n",
    "        Traceback (most recent call last):\n",
    "        ...\n",
    "        AttributeError: can't set attribute 'x'\n",
    "\n",
    "\n",
    "    Tests of hashing:\n",
    "\n",
    "        >>> v1 = Vector2d(3, 4)\n",
    "        >>> v2 = Vector2d(3.1, 4.2)\n",
    "        >>> len({v1, v2})\n",
    "        2\n",
    "    \"\"\"\n",
    "    __match_args__ = ('x', 'y')\n",
    "\n",
    "    typecode = 'd'\n",
    "\n",
    "    def __init__(self, x, y):\n",
    "        self.__x = float(x)\n",
    "        self.__y = float(y)\n",
    "\n",
    "    @property\n",
    "    def x(self):\n",
    "        return self.__x\n",
    "\n",
    "    @property\n",
    "    def y(self):\n",
    "        return self.__y\n",
    "\n",
    "    def __iter__(self):\n",
    "        return (i for i in (self.x, self.y))\n",
    "\n",
    "    def __repr__(self):\n",
    "        class_name = type(self).__name__\n",
    "        return '{}({!r}, {!r})'.format(class_name, *self)\n",
    "\n",
    "    def __str__(self):\n",
    "        return str(tuple(self))\n",
    "\n",
    "    def __bytes__(self):\n",
    "        return (bytes([ord(self.typecode)]) +\n",
    "                bytes(array(self.typecode, self)))\n",
    "\n",
    "    def __eq__(self, other):\n",
    "        return tuple(self) == tuple(other)\n",
    "\n",
    "    def __hash__(self):\n",
    "        return hash((self.x, self.y))\n",
    "\n",
    "    def __abs__(self):\n",
    "        return math.hypot(self.x, self.y)\n",
    "\n",
    "    def __bool__(self):\n",
    "        return bool(abs(self))\n",
    "\n",
    "    def angle(self):\n",
    "        return math.atan2(self.y, self.x)\n",
    "\n",
    "    def __format__(self, fmt_spec=''):\n",
    "        if fmt_spec.endswith('p'):\n",
    "            fmt_spec = fmt_spec[:-1]\n",
    "            coords = (abs(self), self.angle())\n",
    "            outer_fmt = '<{}, {}>'\n",
    "        else:\n",
    "            coords = self\n",
    "            outer_fmt = '({}, {})'\n",
    "        components = (format(c, fmt_spec) for c in coords)\n",
    "        return outer_fmt.format(*components)\n",
    "\n",
    "    @classmethod\n",
    "    def frombytes(cls, octets):\n",
    "        typecode = chr(octets[0])\n",
    "        memv = memoryview(octets[1:]).cast(typecode)\n",
    "        return cls(*memv)"
   ]
  },
  {
   "cell_type": "markdown",
   "metadata": {},
   "source": [
    "### Private and “Protected” Attributes in Python\n",
    "- there only exists a simple mechanism to prevent accidental overwriting of a “private” attribute in a subclass\n",
    "- if we name a private attribute with two underscores in the beginning like `__mood`, then it's name gets mangled with the class name like `_Dog__mood` in the dict of the class\n",
    "    - this is to prevent accidental over-writing (name clash) this attribute in a subclass\n",
    "    - if we had the same attribute in a subclass, it would become `_Beagle__mood`\n",
    "    - name mangling is about safety, not security"
   ]
  },
  {
   "cell_type": "code",
   "execution_count": 11,
   "metadata": {},
   "outputs": [
    {
     "data": {
      "text/plain": [
       "{'_Vector2d__x': 3.0, '_Vector2d__y': 4.0}"
      ]
     },
     "execution_count": 11,
     "metadata": {},
     "output_type": "execute_result"
    }
   ],
   "source": [
    "# showing this for Vector2d where we have self.__x and self.__y:\n",
    "v1 = Vector2d(3, 4)\n",
    "v1.__dict__"
   ]
  },
  {
   "cell_type": "code",
   "execution_count": 12,
   "metadata": {},
   "outputs": [
    {
     "data": {
      "text/plain": [
       "3.0"
      ]
     },
     "execution_count": 12,
     "metadata": {},
     "output_type": "execute_result"
    }
   ],
   "source": [
    "# we can read the private attribute directly (this is about safety, not security)\n",
    "v1._Vector2d__x"
   ]
  },
  {
   "cell_type": "code",
   "execution_count": 14,
   "metadata": {},
   "outputs": [
    {
     "data": {
      "text/plain": [
       "7"
      ]
     },
     "execution_count": 14,
     "metadata": {},
     "output_type": "execute_result"
    }
   ],
   "source": [
    "# if we know about the private attribute __x, we can also set it even though it is protected as a property\n",
    "v1._Vector2d__x = 7\n",
    "v1._Vector2d__x"
   ]
  },
  {
   "cell_type": "markdown",
   "metadata": {},
   "source": [
    "Using single underscores don't cause any name mangling, but are used as well to indicate privacy. There's a convention of not calling such attributes from outside of the class.\n",
    "\n",
    "### Saving Memory with `__slots__`\n",
    "- every object has a `__dict__` attribute that stores it's attributes\n",
    "- but as every dict it has a significant memory overhead\n",
    "- but it we define a class attribute named `__slots__` holding a sequence of attribute names, Python uses an alternative storage model for the instance attributes which uses less memory than a dict\n",
    "- make sense only when handling a very large number of instances"
   ]
  },
  {
   "cell_type": "code",
   "execution_count": 15,
   "metadata": {},
   "outputs": [
    {
     "ename": "AttributeError",
     "evalue": "'Pixel' object has no attribute '__dict__'",
     "output_type": "error",
     "traceback": [
      "\u001b[0;31m---------------------------------------------------------------------------\u001b[0m",
      "\u001b[0;31mAttributeError\u001b[0m                            Traceback (most recent call last)",
      "Cell \u001b[0;32mIn[15], line 5\u001b[0m\n\u001b[1;32m      2\u001b[0m     \u001b[38;5;18m__slots__\u001b[39m \u001b[38;5;241m=\u001b[39m (\u001b[38;5;124m'\u001b[39m\u001b[38;5;124mx\u001b[39m\u001b[38;5;124m'\u001b[39m, \u001b[38;5;124m'\u001b[39m\u001b[38;5;124my\u001b[39m\u001b[38;5;124m'\u001b[39m)\n\u001b[1;32m      4\u001b[0m p \u001b[38;5;241m=\u001b[39m Pixel()\n\u001b[0;32m----> 5\u001b[0m \u001b[43mp\u001b[49m\u001b[38;5;241;43m.\u001b[39;49m\u001b[38;5;18;43m__dict__\u001b[39;49m\n",
      "\u001b[0;31mAttributeError\u001b[0m: 'Pixel' object has no attribute '__dict__'"
     ]
    }
   ],
   "source": [
    "class Pixel:\n",
    "    __slots__ = ('x', 'y')\n",
    "\n",
    "p = Pixel()\n",
    "p.__dict__ # those objects don't have a __dict__ attribute"
   ]
  },
  {
   "cell_type": "code",
   "execution_count": 16,
   "metadata": {},
   "outputs": [
    {
     "ename": "AttributeError",
     "evalue": "'Pixel' object has no attribute 'color'",
     "output_type": "error",
     "traceback": [
      "\u001b[0;31m---------------------------------------------------------------------------\u001b[0m",
      "\u001b[0;31mAttributeError\u001b[0m                            Traceback (most recent call last)",
      "Cell \u001b[0;32mIn[16], line 3\u001b[0m\n\u001b[1;32m      1\u001b[0m p\u001b[38;5;241m.\u001b[39mx \u001b[38;5;241m=\u001b[39m \u001b[38;5;241m10\u001b[39m\n\u001b[1;32m      2\u001b[0m p\u001b[38;5;241m.\u001b[39my \u001b[38;5;241m=\u001b[39m \u001b[38;5;241m20\u001b[39m\n\u001b[0;32m----> 3\u001b[0m \u001b[43mp\u001b[49m\u001b[38;5;241;43m.\u001b[39;49m\u001b[43mcolor\u001b[49m \u001b[38;5;241m=\u001b[39m \u001b[38;5;124m'\u001b[39m\u001b[38;5;124mred\u001b[39m\u001b[38;5;124m'\u001b[39m \u001b[38;5;66;03m# trying to set an attribute not listed in __slots__ raises AttributeError\u001b[39;00m\n",
      "\u001b[0;31mAttributeError\u001b[0m: 'Pixel' object has no attribute 'color'"
     ]
    }
   ],
   "source": [
    "p.x = 10\n",
    "p.y = 20\n",
    "p.color = 'red' # trying to set an attribute not listed in __slots__ raises AttributeError"
   ]
  },
  {
   "cell_type": "code",
   "execution_count": 18,
   "metadata": {},
   "outputs": [
    {
     "data": {
      "text/plain": [
       "{}"
      ]
     },
     "execution_count": 18,
     "metadata": {},
     "output_type": "execute_result"
    }
   ],
   "source": [
    "class OpenPixel(Pixel):\n",
    "    pass\n",
    "\n",
    "op = OpenPixel()\n",
    "\n",
    "op.__dict__ # instances of a subclass sof Pixel do have a dict (empty because the subclass doesn't declare any arguments of its own)"
   ]
  },
  {
   "cell_type": "code",
   "execution_count": 19,
   "metadata": {},
   "outputs": [
    {
     "data": {
      "text/plain": [
       "{}"
      ]
     },
     "execution_count": 19,
     "metadata": {},
     "output_type": "execute_result"
    }
   ],
   "source": [
    "# setting an attribute that is named in the parent classes' __slots__ doesn't appear in the object's __dict__\n",
    "op.x = 8\n",
    "op.__dict__"
   ]
  },
  {
   "cell_type": "code",
   "execution_count": null,
   "metadata": {},
   "outputs": [],
   "source": [
    "op.x # but it is stored in the hidden array of references in the instance"
   ]
  },
  {
   "cell_type": "code",
   "execution_count": null,
   "metadata": {},
   "outputs": [],
   "source": [
    "op.color = 'green' # setting an attribute not named in the parent classes' __slots__, is saved in the instance's __dict__"
   ]
  },
  {
   "cell_type": "markdown",
   "metadata": {},
   "source": [
    "To make sure that instances of a subclass have no `__dict__`, we must declare `__slots__` again in the subclass.\n",
    "\n",
    "Another attribute to know is `__weakref__` if an object should support weak references.\n",
    "\n",
    "### Overriding Class Attributes\n",
    "- class attributes can be used as default values for instance attributes\n"
   ]
  },
  {
   "cell_type": "code",
   "execution_count": null,
   "metadata": {},
   "outputs": [],
   "source": [
    "class Vector2d:\n",
    "    typecode = 'd' # class attribute\n",
    "\n",
    "    def __bytes__(self):\n",
    "        return (bytes([ord(self.typecode)]) +       # the typecode is accessed with self.typecode which converts it into an instance attribute\n",
    "                bytes(array(self.typecode, self)))"
   ]
  },
  {
   "cell_type": "code",
   "execution_count": 20,
   "metadata": {},
   "outputs": [],
   "source": [
    "# we could change the instance attribute per subclass\n",
    "v1 = Vector2d(1.1, 2.2)\n",
    "v1.typecode = 'f'"
   ]
  }
 ],
 "metadata": {
  "kernelspec": {
   "display_name": "fluent_python",
   "language": "python",
   "name": "python3"
  },
  "language_info": {
   "codemirror_mode": {
    "name": "ipython",
    "version": 3
   },
   "file_extension": ".py",
   "mimetype": "text/x-python",
   "name": "python",
   "nbconvert_exporter": "python",
   "pygments_lexer": "ipython3",
   "version": "3.12.2"
  }
 },
 "nbformat": 4,
 "nbformat_minor": 2
}
